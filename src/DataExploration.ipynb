{
 "cells": [
  {
   "cell_type": "raw",
   "metadata": {},
   "source": [
    "<!-- Show/hide code in rendered HTML see \n",
    "http://chris-said.io/2016/02/13/how-to-make-polished-jupyter-presentations-with-optional-code-visibility/ -->\n",
    "<script>\n",
    "  function code_toggle() {\n",
    "    if (code_shown){\n",
    "      $('div.input').hide('500');\n",
    "      $('#toggleButton').val('Show Code')\n",
    "    } else {\n",
    "      $('div.input').show('500');\n",
    "      $('#toggleButton').val('Hide Code')\n",
    "    }\n",
    "    code_shown = !code_shown\n",
    "  }\n",
    "\n",
    "  $( document ).ready(function(){\n",
    "    code_shown=false;\n",
    "    $('div.input').hide()\n",
    "  });\n",
    "</script>\n",
    "<form action=\"javascript:code_toggle()\"><input type=\"submit\" id=\"toggleButton\" value=\"Show Code\"></form>"
   ]
  },
  {
   "cell_type": "code",
   "execution_count": 163,
   "metadata": {},
   "outputs": [
    {
     "name": "stdout",
     "output_type": "stream",
     "text": [
      "The autoreload extension is already loaded. To reload it, use:\n",
      "  %reload_ext autoreload\n"
     ]
    }
   ],
   "source": [
    "%load_ext autoreload\n",
    "%autoreload 2\n",
    "%matplotlib inline\n",
    "\n",
    "import os\n",
    "import pandas as pd\n",
    "import numpy as np\n",
    "from sklearn import preprocessing\n",
    "\n",
    "#Visualisation Libraries\n",
    "import matplotlib as mpl\n",
    "import matplotlib.pyplot as plt\n",
    "mpl.style.use('ggplot')\n",
    "import seaborn as sns\n",
    "\n",
    "# Self written packages\n",
    "from data.make_data import DataSet"
   ]
  },
  {
   "cell_type": "code",
   "execution_count": 164,
   "metadata": {},
   "outputs": [
    {
     "name": "stdout",
     "output_type": "stream",
     "text": [
      "Start reading data:\n",
      "Read  /Users/moritz/Desktop/BI2/bi2_project/data/go_track_tracks.csv\n",
      "Read  /Users/moritz/Desktop/BI2/bi2_project/data/go_track_trackspoints.csv\n"
     ]
    }
   ],
   "source": [
    "print(\"Start reading data:\")\n",
    "parentdir = os.path.dirname(os.getcwd())\n",
    "datadir = os.path.join(parentdir, \"data\")\n",
    "dataset = DataSet(datadir,file_ending=\".csv\")\n",
    "tracks, trackspoints = dataset.get_data()\n",
    "tracks = dataset.preprocess_tracks_data(tracks)\n",
    "trackspoints = dataset.preprocess_trackspoint_data(trackspoints)"
   ]
  },
  {
   "cell_type": "markdown",
   "metadata": {},
   "source": [
    "## Data Set Description\n",
    "The dataset is composed by two tables. The first table **tracks** presents general \n",
    "attributes and each instance has one trajectory that is represented by the table  \n",
    "**trackspoints**. "
   ]
  },
  {
   "cell_type": "markdown",
   "metadata": {},
   "source": [
    "### Tracks Data Table - a list of trajectories  \n",
    "- id_android - it represents the device used to capture the instance;  \n",
    "- speed - it represents the average speed (Km/H)  \n",
    "- time - it represents the time in hours\n",
    "- distance - it represent the total distance (Km)  \n",
    "- rating - it is an evaluation parameter. Evaluation the traffic is a way to verify the volunteers \n",
    "- perception about the traffic during the travel, in other words,  \n",
    " if volunteers move to some place and face traffic jam, maybe they will    evaluate 'bad'. (3-good, 2-normal, 1-bad).  \n",
    "- rating_bus - it is other evaluation parameter. (1 - The amount of people inside the bus is little, 2 - The bus is not crowded, 3- The bus is crowded.  \n",
    "- rating_weather - it is another evaluation parameter. ( 2- sunny, 1- raining).  \n",
    "- car_or_bus - (1 - car, 2-bus)  \n",
    "- linha - information about the bus that does the pathway  "
   ]
  },
  {
   "cell_type": "markdown",
   "metadata": {},
   "source": [
    "First 10 entries:"
   ]
  },
  {
   "cell_type": "code",
   "execution_count": 165,
   "metadata": {
    "scrolled": true
   },
   "outputs": [
    {
     "data": {
      "text/html": [
       "<div>\n",
       "<style>\n",
       "    .dataframe thead tr:only-child th {\n",
       "        text-align: right;\n",
       "    }\n",
       "\n",
       "    .dataframe thead th {\n",
       "        text-align: left;\n",
       "    }\n",
       "\n",
       "    .dataframe tbody tr th {\n",
       "        vertical-align: top;\n",
       "    }\n",
       "</style>\n",
       "<table border=\"1\" class=\"dataframe\">\n",
       "  <thead>\n",
       "    <tr style=\"text-align: right;\">\n",
       "      <th></th>\n",
       "      <th>id</th>\n",
       "      <th>id_android</th>\n",
       "      <th>speed</th>\n",
       "      <th>time</th>\n",
       "      <th>distance</th>\n",
       "      <th>rating</th>\n",
       "      <th>rating_bus</th>\n",
       "      <th>rating_weather</th>\n",
       "      <th>car_or_bus</th>\n",
       "      <th>linha</th>\n",
       "    </tr>\n",
       "  </thead>\n",
       "  <tbody>\n",
       "    <tr>\n",
       "      <th>0</th>\n",
       "      <td>1</td>\n",
       "      <td>0</td>\n",
       "      <td>19.210586</td>\n",
       "      <td>0.138049</td>\n",
       "      <td>2.652</td>\n",
       "      <td>3</td>\n",
       "      <td>0</td>\n",
       "      <td>0</td>\n",
       "      <td>1</td>\n",
       "      <td>no_answer</td>\n",
       "    </tr>\n",
       "    <tr>\n",
       "      <th>1</th>\n",
       "      <td>2</td>\n",
       "      <td>0</td>\n",
       "      <td>30.848229</td>\n",
       "      <td>0.171485</td>\n",
       "      <td>5.290</td>\n",
       "      <td>3</td>\n",
       "      <td>0</td>\n",
       "      <td>0</td>\n",
       "      <td>1</td>\n",
       "      <td>no_answer</td>\n",
       "    </tr>\n",
       "    <tr>\n",
       "      <th>2</th>\n",
       "      <td>3</td>\n",
       "      <td>1</td>\n",
       "      <td>13.560101</td>\n",
       "      <td>0.067699</td>\n",
       "      <td>0.918</td>\n",
       "      <td>3</td>\n",
       "      <td>0</td>\n",
       "      <td>0</td>\n",
       "      <td>2</td>\n",
       "      <td>no_answer</td>\n",
       "    </tr>\n",
       "    <tr>\n",
       "      <th>3</th>\n",
       "      <td>4</td>\n",
       "      <td>1</td>\n",
       "      <td>19.766679</td>\n",
       "      <td>0.389544</td>\n",
       "      <td>7.700</td>\n",
       "      <td>3</td>\n",
       "      <td>0</td>\n",
       "      <td>0</td>\n",
       "      <td>2</td>\n",
       "      <td>no_answer</td>\n",
       "    </tr>\n",
       "    <tr>\n",
       "      <th>4</th>\n",
       "      <td>8</td>\n",
       "      <td>0</td>\n",
       "      <td>25.807401</td>\n",
       "      <td>0.154801</td>\n",
       "      <td>3.995</td>\n",
       "      <td>2</td>\n",
       "      <td>0</td>\n",
       "      <td>0</td>\n",
       "      <td>1</td>\n",
       "      <td>no_answer</td>\n",
       "    </tr>\n",
       "    <tr>\n",
       "      <th>5</th>\n",
       "      <td>10</td>\n",
       "      <td>2</td>\n",
       "      <td>1.346913</td>\n",
       "      <td>0.006682</td>\n",
       "      <td>0.009</td>\n",
       "      <td>2</td>\n",
       "      <td>0</td>\n",
       "      <td>0</td>\n",
       "      <td>1</td>\n",
       "      <td>no_answer</td>\n",
       "    </tr>\n",
       "    <tr>\n",
       "      <th>6</th>\n",
       "      <td>11</td>\n",
       "      <td>3</td>\n",
       "      <td>36.850787</td>\n",
       "      <td>0.228001</td>\n",
       "      <td>8.402</td>\n",
       "      <td>3</td>\n",
       "      <td>0</td>\n",
       "      <td>0</td>\n",
       "      <td>1</td>\n",
       "      <td>no_answer</td>\n",
       "    </tr>\n",
       "    <tr>\n",
       "      <th>7</th>\n",
       "      <td>12</td>\n",
       "      <td>1</td>\n",
       "      <td>17.405131</td>\n",
       "      <td>0.038782</td>\n",
       "      <td>0.675</td>\n",
       "      <td>3</td>\n",
       "      <td>0</td>\n",
       "      <td>0</td>\n",
       "      <td>2</td>\n",
       "      <td>no_answer</td>\n",
       "    </tr>\n",
       "    <tr>\n",
       "      <th>8</th>\n",
       "      <td>13</td>\n",
       "      <td>1</td>\n",
       "      <td>15.395436</td>\n",
       "      <td>0.526844</td>\n",
       "      <td>8.111</td>\n",
       "      <td>3</td>\n",
       "      <td>0</td>\n",
       "      <td>0</td>\n",
       "      <td>2</td>\n",
       "      <td>no_answer</td>\n",
       "    </tr>\n",
       "    <tr>\n",
       "      <th>9</th>\n",
       "      <td>14</td>\n",
       "      <td>1</td>\n",
       "      <td>8.902729</td>\n",
       "      <td>0.003033</td>\n",
       "      <td>0.027</td>\n",
       "      <td>2</td>\n",
       "      <td>0</td>\n",
       "      <td>0</td>\n",
       "      <td>2</td>\n",
       "      <td>no_answer</td>\n",
       "    </tr>\n",
       "  </tbody>\n",
       "</table>\n",
       "</div>"
      ],
      "text/plain": [
       "   id  id_android      speed      time  distance  rating  rating_bus  \\\n",
       "0   1           0  19.210586  0.138049     2.652       3           0   \n",
       "1   2           0  30.848229  0.171485     5.290       3           0   \n",
       "2   3           1  13.560101  0.067699     0.918       3           0   \n",
       "3   4           1  19.766679  0.389544     7.700       3           0   \n",
       "4   8           0  25.807401  0.154801     3.995       2           0   \n",
       "5  10           2   1.346913  0.006682     0.009       2           0   \n",
       "6  11           3  36.850787  0.228001     8.402       3           0   \n",
       "7  12           1  17.405131  0.038782     0.675       3           0   \n",
       "8  13           1  15.395436  0.526844     8.111       3           0   \n",
       "9  14           1   8.902729  0.003033     0.027       2           0   \n",
       "\n",
       "   rating_weather  car_or_bus      linha  \n",
       "0               0           1  no_answer  \n",
       "1               0           1  no_answer  \n",
       "2               0           2  no_answer  \n",
       "3               0           2  no_answer  \n",
       "4               0           1  no_answer  \n",
       "5               0           1  no_answer  \n",
       "6               0           1  no_answer  \n",
       "7               0           2  no_answer  \n",
       "8               0           2  no_answer  \n",
       "9               0           2  no_answer  "
      ]
     },
     "execution_count": 165,
     "metadata": {},
     "output_type": "execute_result"
    }
   ],
   "source": [
    "tracks.iloc[0:10,:]"
   ]
  },
  {
   "cell_type": "markdown",
   "metadata": {},
   "source": [
    "Summary Statistics:"
   ]
  },
  {
   "cell_type": "code",
   "execution_count": 166,
   "metadata": {},
   "outputs": [
    {
     "data": {
      "text/html": [
       "<div>\n",
       "<style>\n",
       "    .dataframe thead tr:only-child th {\n",
       "        text-align: right;\n",
       "    }\n",
       "\n",
       "    .dataframe thead th {\n",
       "        text-align: left;\n",
       "    }\n",
       "\n",
       "    .dataframe tbody tr th {\n",
       "        vertical-align: top;\n",
       "    }\n",
       "</style>\n",
       "<table border=\"1\" class=\"dataframe\">\n",
       "  <thead>\n",
       "    <tr style=\"text-align: right;\">\n",
       "      <th></th>\n",
       "      <th>count</th>\n",
       "      <th>mean</th>\n",
       "      <th>std</th>\n",
       "      <th>min</th>\n",
       "      <th>25%</th>\n",
       "      <th>50%</th>\n",
       "      <th>75%</th>\n",
       "      <th>max</th>\n",
       "    </tr>\n",
       "  </thead>\n",
       "  <tbody>\n",
       "    <tr>\n",
       "      <th>id</th>\n",
       "      <td>163.0</td>\n",
       "      <td>15607.650307</td>\n",
       "      <td>18644.257138</td>\n",
       "      <td>1.000000</td>\n",
       "      <td>48.500000</td>\n",
       "      <td>158.000000</td>\n",
       "      <td>37991.000000</td>\n",
       "      <td>38092.000000</td>\n",
       "    </tr>\n",
       "    <tr>\n",
       "      <th>id_android</th>\n",
       "      <td>163.0</td>\n",
       "      <td>7.386503</td>\n",
       "      <td>7.348742</td>\n",
       "      <td>0.000000</td>\n",
       "      <td>1.000000</td>\n",
       "      <td>4.000000</td>\n",
       "      <td>10.000000</td>\n",
       "      <td>27.000000</td>\n",
       "    </tr>\n",
       "    <tr>\n",
       "      <th>speed</th>\n",
       "      <td>163.0</td>\n",
       "      <td>16.704738</td>\n",
       "      <td>16.016168</td>\n",
       "      <td>0.009779</td>\n",
       "      <td>1.591016</td>\n",
       "      <td>16.685368</td>\n",
       "      <td>23.915760</td>\n",
       "      <td>96.206029</td>\n",
       "    </tr>\n",
       "    <tr>\n",
       "      <th>time</th>\n",
       "      <td>163.0</td>\n",
       "      <td>0.264272</td>\n",
       "      <td>0.292731</td>\n",
       "      <td>0.002175</td>\n",
       "      <td>0.035978</td>\n",
       "      <td>0.214466</td>\n",
       "      <td>0.390572</td>\n",
       "      <td>1.942948</td>\n",
       "    </tr>\n",
       "    <tr>\n",
       "      <th>distance</th>\n",
       "      <td>163.0</td>\n",
       "      <td>5.302411</td>\n",
       "      <td>7.639011</td>\n",
       "      <td>0.001000</td>\n",
       "      <td>0.034500</td>\n",
       "      <td>3.995000</td>\n",
       "      <td>7.333000</td>\n",
       "      <td>55.770000</td>\n",
       "    </tr>\n",
       "    <tr>\n",
       "      <th>rating</th>\n",
       "      <td>163.0</td>\n",
       "      <td>2.515337</td>\n",
       "      <td>0.679105</td>\n",
       "      <td>1.000000</td>\n",
       "      <td>2.000000</td>\n",
       "      <td>3.000000</td>\n",
       "      <td>3.000000</td>\n",
       "      <td>3.000000</td>\n",
       "    </tr>\n",
       "    <tr>\n",
       "      <th>rating_bus</th>\n",
       "      <td>163.0</td>\n",
       "      <td>0.386503</td>\n",
       "      <td>0.687859</td>\n",
       "      <td>0.000000</td>\n",
       "      <td>0.000000</td>\n",
       "      <td>0.000000</td>\n",
       "      <td>1.000000</td>\n",
       "      <td>3.000000</td>\n",
       "    </tr>\n",
       "    <tr>\n",
       "      <th>rating_weather</th>\n",
       "      <td>163.0</td>\n",
       "      <td>0.515337</td>\n",
       "      <td>0.841485</td>\n",
       "      <td>0.000000</td>\n",
       "      <td>0.000000</td>\n",
       "      <td>0.000000</td>\n",
       "      <td>1.000000</td>\n",
       "      <td>2.000000</td>\n",
       "    </tr>\n",
       "    <tr>\n",
       "      <th>car_or_bus</th>\n",
       "      <td>163.0</td>\n",
       "      <td>1.466258</td>\n",
       "      <td>0.500397</td>\n",
       "      <td>1.000000</td>\n",
       "      <td>1.000000</td>\n",
       "      <td>1.000000</td>\n",
       "      <td>2.000000</td>\n",
       "      <td>2.000000</td>\n",
       "    </tr>\n",
       "  </tbody>\n",
       "</table>\n",
       "</div>"
      ],
      "text/plain": [
       "                count          mean           std       min        25%  \\\n",
       "id              163.0  15607.650307  18644.257138  1.000000  48.500000   \n",
       "id_android      163.0      7.386503      7.348742  0.000000   1.000000   \n",
       "speed           163.0     16.704738     16.016168  0.009779   1.591016   \n",
       "time            163.0      0.264272      0.292731  0.002175   0.035978   \n",
       "distance        163.0      5.302411      7.639011  0.001000   0.034500   \n",
       "rating          163.0      2.515337      0.679105  1.000000   2.000000   \n",
       "rating_bus      163.0      0.386503      0.687859  0.000000   0.000000   \n",
       "rating_weather  163.0      0.515337      0.841485  0.000000   0.000000   \n",
       "car_or_bus      163.0      1.466258      0.500397  1.000000   1.000000   \n",
       "\n",
       "                       50%           75%           max  \n",
       "id              158.000000  37991.000000  38092.000000  \n",
       "id_android        4.000000     10.000000     27.000000  \n",
       "speed            16.685368     23.915760     96.206029  \n",
       "time              0.214466      0.390572      1.942948  \n",
       "distance          3.995000      7.333000     55.770000  \n",
       "rating            3.000000      3.000000      3.000000  \n",
       "rating_bus        0.000000      1.000000      3.000000  \n",
       "rating_weather    0.000000      1.000000      2.000000  \n",
       "car_or_bus        1.000000      2.000000      2.000000  "
      ]
     },
     "execution_count": 166,
     "metadata": {},
     "output_type": "execute_result"
    }
   ],
   "source": [
    "tracks.describe().transpose()"
   ]
  },
  {
   "cell_type": "markdown",
   "metadata": {},
   "source": [
    "### Trackspoints Data Table -  localization points of each trajectory  \n",
    "- id: unique key to identify each point  \n",
    "- latitude: latitude from where the point is  \n",
    "- longitude: longitude from where the point is  \n",
    "- track_id: identify the trajectory which the point belong  \n",
    "- time: datetime when the point was collected (GMT-3) "
   ]
  },
  {
   "cell_type": "markdown",
   "metadata": {},
   "source": [
    "First 10 entries:"
   ]
  },
  {
   "cell_type": "code",
   "execution_count": 167,
   "metadata": {},
   "outputs": [
    {
     "data": {
      "text/html": [
       "<div>\n",
       "<style>\n",
       "    .dataframe thead tr:only-child th {\n",
       "        text-align: right;\n",
       "    }\n",
       "\n",
       "    .dataframe thead th {\n",
       "        text-align: left;\n",
       "    }\n",
       "\n",
       "    .dataframe tbody tr th {\n",
       "        vertical-align: top;\n",
       "    }\n",
       "</style>\n",
       "<table border=\"1\" class=\"dataframe\">\n",
       "  <thead>\n",
       "    <tr style=\"text-align: right;\">\n",
       "      <th></th>\n",
       "      <th>id</th>\n",
       "      <th>latitude</th>\n",
       "      <th>longitude</th>\n",
       "      <th>track_id</th>\n",
       "      <th>time</th>\n",
       "    </tr>\n",
       "  </thead>\n",
       "  <tbody>\n",
       "    <tr>\n",
       "      <th>0</th>\n",
       "      <td>1</td>\n",
       "      <td>-10.939341</td>\n",
       "      <td>-37.062742</td>\n",
       "      <td>1</td>\n",
       "      <td>2014-09-13 07:24:32</td>\n",
       "    </tr>\n",
       "    <tr>\n",
       "      <th>1</th>\n",
       "      <td>2</td>\n",
       "      <td>-10.939341</td>\n",
       "      <td>-37.062742</td>\n",
       "      <td>1</td>\n",
       "      <td>2014-09-13 07:24:37</td>\n",
       "    </tr>\n",
       "    <tr>\n",
       "      <th>2</th>\n",
       "      <td>3</td>\n",
       "      <td>-10.939324</td>\n",
       "      <td>-37.062765</td>\n",
       "      <td>1</td>\n",
       "      <td>2014-09-13 07:24:42</td>\n",
       "    </tr>\n",
       "    <tr>\n",
       "      <th>3</th>\n",
       "      <td>4</td>\n",
       "      <td>-10.939211</td>\n",
       "      <td>-37.062843</td>\n",
       "      <td>1</td>\n",
       "      <td>2014-09-13 07:24:47</td>\n",
       "    </tr>\n",
       "    <tr>\n",
       "      <th>4</th>\n",
       "      <td>5</td>\n",
       "      <td>-10.938939</td>\n",
       "      <td>-37.062879</td>\n",
       "      <td>1</td>\n",
       "      <td>2014-09-13 07:24:53</td>\n",
       "    </tr>\n",
       "    <tr>\n",
       "      <th>5</th>\n",
       "      <td>6</td>\n",
       "      <td>-10.938544</td>\n",
       "      <td>-37.062839</td>\n",
       "      <td>1</td>\n",
       "      <td>2014-09-13 07:24:59</td>\n",
       "    </tr>\n",
       "    <tr>\n",
       "      <th>6</th>\n",
       "      <td>7</td>\n",
       "      <td>-10.938346</td>\n",
       "      <td>-37.062588</td>\n",
       "      <td>1</td>\n",
       "      <td>2014-09-13 07:25:04</td>\n",
       "    </tr>\n",
       "    <tr>\n",
       "      <th>7</th>\n",
       "      <td>8</td>\n",
       "      <td>-10.938448</td>\n",
       "      <td>-37.062000</td>\n",
       "      <td>1</td>\n",
       "      <td>2014-09-13 07:25:10</td>\n",
       "    </tr>\n",
       "    <tr>\n",
       "      <th>8</th>\n",
       "      <td>9</td>\n",
       "      <td>-10.938666</td>\n",
       "      <td>-37.061499</td>\n",
       "      <td>1</td>\n",
       "      <td>2014-09-13 07:25:15</td>\n",
       "    </tr>\n",
       "    <tr>\n",
       "      <th>9</th>\n",
       "      <td>10</td>\n",
       "      <td>-10.938986</td>\n",
       "      <td>-37.060819</td>\n",
       "      <td>1</td>\n",
       "      <td>2014-09-13 07:25:21</td>\n",
       "    </tr>\n",
       "  </tbody>\n",
       "</table>\n",
       "</div>"
      ],
      "text/plain": [
       "   id   latitude  longitude  track_id                time\n",
       "0   1 -10.939341 -37.062742         1 2014-09-13 07:24:32\n",
       "1   2 -10.939341 -37.062742         1 2014-09-13 07:24:37\n",
       "2   3 -10.939324 -37.062765         1 2014-09-13 07:24:42\n",
       "3   4 -10.939211 -37.062843         1 2014-09-13 07:24:47\n",
       "4   5 -10.938939 -37.062879         1 2014-09-13 07:24:53\n",
       "5   6 -10.938544 -37.062839         1 2014-09-13 07:24:59\n",
       "6   7 -10.938346 -37.062588         1 2014-09-13 07:25:04\n",
       "7   8 -10.938448 -37.062000         1 2014-09-13 07:25:10\n",
       "8   9 -10.938666 -37.061499         1 2014-09-13 07:25:15\n",
       "9  10 -10.938986 -37.060819         1 2014-09-13 07:25:21"
      ]
     },
     "execution_count": 167,
     "metadata": {},
     "output_type": "execute_result"
    }
   ],
   "source": [
    "trackspoints.iloc[0:10,:]"
   ]
  },
  {
   "cell_type": "markdown",
   "metadata": {},
   "source": [
    "Min and Max Values:"
   ]
  },
  {
   "cell_type": "code",
   "execution_count": 168,
   "metadata": {
    "scrolled": true
   },
   "outputs": [
    {
     "name": "stdout",
     "output_type": "stream",
     "text": [
      "Min Values: \n",
      "id                             1\n",
      "latitude                -27.6032\n",
      "longitude               -48.6329\n",
      "track_id                       1\n",
      "time         2014-09-13 07:24:32\n",
      "dtype: object\n",
      "\n",
      "\n",
      "Max Values: \n",
      "id                         19569\n",
      "latitude                -10.2928\n",
      "longitude               -36.4934\n",
      "track_id                   38092\n",
      "time         2016-01-19 13:01:47\n",
      "dtype: object\n",
      "\n",
      "Number of rows: 18107\n"
     ]
    }
   ],
   "source": [
    "print(\"Min Values: \\n\" + str(trackspoints.min()))\n",
    "print(\"\\n\")\n",
    "print(\"Max Values: \\n\" + str(trackspoints.max()))\n",
    "print(\"\\nNumber of rows: %s\" % trackspoints.shape[0])"
   ]
  },
  {
   "cell_type": "markdown",
   "metadata": {},
   "source": [
    "**No duplicate ID's:**"
   ]
  },
  {
   "cell_type": "code",
   "execution_count": 169,
   "metadata": {},
   "outputs": [
    {
     "name": "stdout",
     "output_type": "stream",
     "text": [
      "Trackspoints[\"id\"] rows: 18107\n",
      "Trackspoints[\"id\"] without duplicates rows: 18107\n"
     ]
    }
   ],
   "source": [
    "print(\"Trackspoints[\\\"id\\\"] rows: \" + str(trackspoints[\"id\"].shape[0]))\n",
    "print(\"Trackspoints[\\\"id\\\"] without duplicates rows: \" + str(trackspoints[\"id\"].drop_duplicates().shape[0]))"
   ]
  },
  {
   "cell_type": "markdown",
   "metadata": {},
   "source": [
    "***\n",
    "## Visualization & Exploration\n",
    "### Travel time for each trip in minutes"
   ]
  },
  {
   "cell_type": "code",
   "execution_count": 170,
   "metadata": {
    "collapsed": true
   },
   "outputs": [],
   "source": [
    "from utils.general_utils import calculate_total_trip_time\n",
    "trips_per_track_id = calculate_total_trip_time(trackspoints)"
   ]
  },
  {
   "cell_type": "code",
   "execution_count": 171,
   "metadata": {
    "collapsed": true
   },
   "outputs": [],
   "source": [
    "sorted_trip_times = trips_per_track_id.sort_values(by=\"trip_time_in_minutes\",ascending=False)"
   ]
  },
  {
   "cell_type": "code",
   "execution_count": 172,
   "metadata": {},
   "outputs": [
    {
     "data": {
      "image/png": "[encoded data removed]",
      "text/plain": [
       "<matplotlib.figure.Figure at 0x114c30f28>"
      ]
     },
     "metadata": {},
     "output_type": "display_data"
    }
   ],
   "source": [
    "fig , ax = plt.subplots(figsize=(12,5))\n",
    "ax.bar(range(tracks.shape[0]), sorted_trip_times[\"trip_time_in_minutes\"])\n",
    "ax.set_title(\"Sorted trip time in minutes\")\n",
    "plt.show();"
   ]
  },
  {
   "cell_type": "markdown",
   "metadata": {},
   "source": [
    "**10 Longest Trips for travel time in minutes**"
   ]
  },
  {
   "cell_type": "code",
   "execution_count": 173,
   "metadata": {},
   "outputs": [
    {
     "data": {
      "text/html": [
       "<div>\n",
       "<style>\n",
       "    .dataframe thead tr:only-child th {\n",
       "        text-align: right;\n",
       "    }\n",
       "\n",
       "    .dataframe thead th {\n",
       "        text-align: left;\n",
       "    }\n",
       "\n",
       "    .dataframe tbody tr th {\n",
       "        vertical-align: top;\n",
       "    }\n",
       "</style>\n",
       "<table border=\"1\" class=\"dataframe\">\n",
       "  <thead>\n",
       "    <tr style=\"text-align: right;\">\n",
       "      <th>track_id</th>\n",
       "      <th>27</th>\n",
       "      <th>26</th>\n",
       "      <th>30</th>\n",
       "      <th>31</th>\n",
       "      <th>37962</th>\n",
       "      <th>38002</th>\n",
       "      <th>38017</th>\n",
       "      <th>41</th>\n",
       "      <th>40</th>\n",
       "      <th>19</th>\n",
       "    </tr>\n",
       "  </thead>\n",
       "  <tbody>\n",
       "    <tr>\n",
       "      <th>trip_time_in_minutes</th>\n",
       "      <td>116.57</td>\n",
       "      <td>116.57</td>\n",
       "      <td>59.67</td>\n",
       "      <td>59.67</td>\n",
       "      <td>52.42</td>\n",
       "      <td>47.93</td>\n",
       "      <td>45.8</td>\n",
       "      <td>39.42</td>\n",
       "      <td>38.25</td>\n",
       "      <td>38.07</td>\n",
       "    </tr>\n",
       "  </tbody>\n",
       "</table>\n",
       "</div>"
      ],
      "text/plain": [
       "track_id               27      26     30     31     37962  38002  38017  \\\n",
       "trip_time_in_minutes  116.57  116.57  59.67  59.67  52.42  47.93   45.8   \n",
       "\n",
       "track_id              41     40     19     \n",
       "trip_time_in_minutes  39.42  38.25  38.07  "
      ]
     },
     "execution_count": 173,
     "metadata": {},
     "output_type": "execute_result"
    }
   ],
   "source": [
    "sorted_trip_times.iloc[0:10,:].transpose()"
   ]
  },
  {
   "cell_type": "code",
   "execution_count": 174,
   "metadata": {},
   "outputs": [
    {
     "data": {
      "text/html": [
       "<div>\n",
       "<style>\n",
       "    .dataframe thead tr:only-child th {\n",
       "        text-align: right;\n",
       "    }\n",
       "\n",
       "    .dataframe thead th {\n",
       "        text-align: left;\n",
       "    }\n",
       "\n",
       "    .dataframe tbody tr th {\n",
       "        vertical-align: top;\n",
       "    }\n",
       "</style>\n",
       "<table border=\"1\" class=\"dataframe\">\n",
       "  <thead>\n",
       "    <tr style=\"text-align: right;\">\n",
       "      <th></th>\n",
       "      <th>count</th>\n",
       "      <th>mean</th>\n",
       "      <th>std</th>\n",
       "      <th>min</th>\n",
       "      <th>25%</th>\n",
       "      <th>50%</th>\n",
       "      <th>75%</th>\n",
       "      <th>max</th>\n",
       "    </tr>\n",
       "  </thead>\n",
       "  <tbody>\n",
       "    <tr>\n",
       "      <th>trip_time_in_minutes</th>\n",
       "      <td>163.0</td>\n",
       "      <td>15.34638</td>\n",
       "      <td>17.133331</td>\n",
       "      <td>0.0</td>\n",
       "      <td>1.84</td>\n",
       "      <td>12.33</td>\n",
       "      <td>23.2</td>\n",
       "      <td>116.57</td>\n",
       "    </tr>\n",
       "  </tbody>\n",
       "</table>\n",
       "</div>"
      ],
      "text/plain": [
       "                      count      mean        std  min   25%    50%   75%  \\\n",
       "trip_time_in_minutes  163.0  15.34638  17.133331  0.0  1.84  12.33  23.2   \n",
       "\n",
       "                         max  \n",
       "trip_time_in_minutes  116.57  "
      ]
     },
     "execution_count": 174,
     "metadata": {},
     "output_type": "execute_result"
    }
   ],
   "source": [
    "trips_per_track_id.describe().transpose()"
   ]
  },
  {
   "cell_type": "markdown",
   "metadata": {},
   "source": [
    "**Note:** Number of rows in both tables are equal"
   ]
  },
  {
   "cell_type": "code",
   "execution_count": 175,
   "metadata": {
    "collapsed": true
   },
   "outputs": [],
   "source": [
    "x = tracks.set_index(keys=\"id\")\n",
    "x = x[\"time\"] * 60"
   ]
  },
  {
   "cell_type": "markdown",
   "metadata": {},
   "source": [
    "Check deviation of trip time in minutes from both tables: tracks[time] - calculated_trip_time "
   ]
  },
  {
   "cell_type": "code",
   "execution_count": 176,
   "metadata": {},
   "outputs": [
    {
     "name": "stdout",
     "output_type": "stream",
     "text": [
      "Maximum Absolute Deviation: 24.3293166667\n"
     ]
    }
   ],
   "source": [
    "deviation = np.abs(trips_per_track_id[\"trip_time_in_minutes\"]) - np.abs(x.iloc[:])\n",
    "absolute_deviation = np.abs(deviation)\n",
    "print(\"Maximum Absolute Deviation: \" + str(max(absolute_deviation)))"
   ]
  },
  {
   "cell_type": "markdown",
   "metadata": {},
   "source": [
    "**Large difference between the calculated trip time and the one stated in the tracks[time] column**"
   ]
  },
  {
   "cell_type": "code",
   "execution_count": 177,
   "metadata": {
    "scrolled": false
   },
   "outputs": [
    {
     "data": {
      "image/png": "[encoded data removed]",
      "text/plain": [
       "<matplotlib.figure.Figure at 0x111d3e780>"
      ]
     },
     "metadata": {},
     "output_type": "display_data"
    }
   ],
   "source": [
    "fig , ax = plt.subplots(figsize=(12,5))\n",
    "ax.bar(range(x.shape[0]), absolute_deviation)\n",
    "ax.set_title(\"Absolute deviation of trip time from tracks & trackspoints in minutes\")\n",
    "#ax.set_xlim((min(absolute_deviation), max(absolute_deviation)))\n",
    "threshold = 5\n",
    "plt.plot([threshold for x in range(x.shape[0])], 'k-', lw=1)\n",
    "plt.show();"
   ]
  },
  {
   "cell_type": "code",
   "execution_count": 178,
   "metadata": {},
   "outputs": [
    {
     "name": "stdout",
     "output_type": "stream",
     "text": [
      "There are 12 deviations larger than 5 minutes\n"
     ]
    }
   ],
   "source": [
    "print(\"There are {} deviations larger than {} minutes\".format(len(absolute_deviation[absolute_deviation > 5]),\n",
    "                                                              threshold))"
   ]
  },
  {
   "cell_type": "markdown",
   "metadata": {},
   "source": [
    "There are "
   ]
  },
  {
   "cell_type": "markdown",
   "metadata": {},
   "source": [
    "**From the 10 longest trips the Nr. 1 & 2, Nr. 3 & 4 have the same trip time**\n",
    "\n",
    "Possibility of duplicate trip recordings"
   ]
  },
  {
   "cell_type": "code",
   "execution_count": 179,
   "metadata": {},
   "outputs": [
    {
     "data": {
      "text/html": [
       "<div>\n",
       "<style>\n",
       "    .dataframe thead tr:only-child th {\n",
       "        text-align: right;\n",
       "    }\n",
       "\n",
       "    .dataframe thead th {\n",
       "        text-align: left;\n",
       "    }\n",
       "\n",
       "    .dataframe tbody tr th {\n",
       "        vertical-align: top;\n",
       "    }\n",
       "</style>\n",
       "<table border=\"1\" class=\"dataframe\">\n",
       "  <thead>\n",
       "    <tr style=\"text-align: right;\">\n",
       "      <th>track_id</th>\n",
       "      <th>27</th>\n",
       "      <th>26</th>\n",
       "      <th>30</th>\n",
       "      <th>31</th>\n",
       "    </tr>\n",
       "  </thead>\n",
       "  <tbody>\n",
       "    <tr>\n",
       "      <th>trip_time_in_minutes</th>\n",
       "      <td>116.57</td>\n",
       "      <td>116.57</td>\n",
       "      <td>59.67</td>\n",
       "      <td>59.67</td>\n",
       "    </tr>\n",
       "  </tbody>\n",
       "</table>\n",
       "</div>"
      ],
      "text/plain": [
       "track_id                  27      26     30     31\n",
       "trip_time_in_minutes  116.57  116.57  59.67  59.67"
      ]
     },
     "execution_count": 179,
     "metadata": {},
     "output_type": "execute_result"
    }
   ],
   "source": [
    "sorted_trip_times.iloc[0:4,:].transpose()"
   ]
  },
  {
   "cell_type": "markdown",
   "metadata": {},
   "source": [
    "Let's check if track recording 26 & 27 are duplicates or if it is just a coincidence that their trip time is the same."
   ]
  },
  {
   "cell_type": "code",
   "execution_count": 180,
   "metadata": {
    "collapsed": true
   },
   "outputs": [],
   "source": [
    "track_26 = trackspoints[trackspoints[\"track_id\"]==26]\n",
    "track_27 = trackspoints[trackspoints[\"track_id\"]==27]\n",
    "track_list = [track_26, track_27]"
   ]
  },
  {
   "cell_type": "markdown",
   "metadata": {},
   "source": [
    "Both trip recordings have the identical plot for time and longitude vs latitude. There is a high chance that these are not the only duplicate values."
   ]
  },
  {
   "cell_type": "code",
   "execution_count": 181,
   "metadata": {},
   "outputs": [
    {
     "data": {
      "image/png": "[encoded data removed]",
      "text/plain": [
       "<matplotlib.figure.Figure at 0x10773a240>"
      ]
     },
     "metadata": {},
     "output_type": "display_data"
    },
    {
     "data": {
      "image/png": "[encoded data removed]",
      "text/plain": [
       "<matplotlib.figure.Figure at 0x1156eda58>"
      ]
     },
     "metadata": {},
     "output_type": "display_data"
    }
   ],
   "source": [
    "fig1, axes1 = plt.subplots(figsize=(8,4),nrows=1, ncols=2)\n",
    "axes1_flattened = axes1.flatten()\n",
    "\n",
    "for i, ax in enumerate(axes1_flattened):\n",
    "    ax.plot(track_list[i][\"longitude\"], track_list[i][\"latitude\"])\n",
    "    ax.set_xlabel(\"Longitude\")\n",
    "    ax.set_ylabel(\"Latitude\")\n",
    "    track_id = track_list[i][\"track_id\"].iloc[0]\n",
    "    ax.set_title(\"Track Id: {}\".format(track_id))\n",
    "    \n",
    "fig1.tight_layout();\n",
    "\n",
    "fig2, axes2 = plt.subplots(figsize=(8,4),nrows=1, ncols=2)\n",
    "axes2_flattened = axes2.flatten()\n",
    "for i, ax in enumerate(axes2_flattened):\n",
    "    ax.plot(track_list[i][\"time\"])\n",
    "    ax.set_xlabel(\"Recording Steps\")\n",
    "    ax.set_ylabel(\"time\")\n",
    "    track_id = track_list[i][\"track_id\"].iloc[0]\n",
    "    ax.set_title(\"Track Id: {}\".format(track_id))\n",
    "    \n",
    "fig2.tight_layout();"
   ]
  },
  {
   "cell_type": "markdown",
   "metadata": {},
   "source": [
    "In order to check for all duplicate track recordings a more analytical approach is needed. So let's first calculate all possible duplicates and check later whether they are real duplicates or not:\n"
   ]
  },
  {
   "cell_type": "code",
   "execution_count": 182,
   "metadata": {
    "scrolled": true
   },
   "outputs": [
    {
     "name": "stdout",
     "output_type": "stream",
     "text": [
      "There are 27.0 possible duplicates\n",
      "\n"
     ]
    }
   ],
   "source": [
    "from utils.general_utils import get_duplicate_track_recording_candidates\n",
    "nrofduplicates, duplicate_candidates = get_duplicate_track_recording_candidates(trips_per_track_id)\n",
    "print(\"There are {} possible duplicates\\n\".format(nrofduplicates/2))"
   ]
  },
  {
   "cell_type": "markdown",
   "metadata": {},
   "source": [
    "Now let's check whether these duplicate candidates are really identical in time and gps coordinates.  Lets check how many candidate duplicates track recordings are real duplicates:"
   ]
  },
  {
   "cell_type": "code",
   "execution_count": 183,
   "metadata": {
    "scrolled": false
   },
   "outputs": [
    {
     "name": "stdout",
     "output_type": "stream",
     "text": [
      "There are 17 real duplicates\n"
     ]
    }
   ],
   "source": [
    "from utils.general_utils import get_real_duplicate_track_recordings\n",
    "\n",
    "duplicates = get_real_duplicate_track_recordings(duplicate_candidates, \n",
    "                                                 trackspoints, verbose = False)\n",
    "print(\"There are {} real duplicates\".format(len(duplicates)))"
   ]
  },
  {
   "cell_type": "markdown",
   "metadata": {},
   "source": [
    "We have the following duplicates:"
   ]
  },
  {
   "cell_type": "code",
   "execution_count": 184,
   "metadata": {},
   "outputs": [
    {
     "name": "stdout",
     "output_type": "stream",
     "text": [
      "Duplicate Track_ids:\n",
      " [37972, 21, 27, 31, 45, 50, 56, 135, 137, 139, 141, 143, 32447, 37950, 37954, 37997, 38021]\n"
     ]
    }
   ],
   "source": [
    "print(\"Duplicate Track_ids:\\n\",[i for i in duplicates])"
   ]
  },
  {
   "cell_type": "markdown",
   "metadata": {},
   "source": [
    "Additionally to the duplicate track recordings we also have trip times which are 0:"
   ]
  },
  {
   "cell_type": "code",
   "execution_count": 185,
   "metadata": {},
   "outputs": [
    {
     "name": "stdout",
     "output_type": "stream",
     "text": [
      "There are 10 track recordings [14, 71, 148, 159, 171, 37982, 37990, 37993, 37998, 38030] have a trip time of 0\n"
     ]
    }
   ],
   "source": [
    "print(\"There are {} track recordings {} have a trip time of 0\".format(len(duplicate_candidates[0.0]),\n",
    "                                                                      duplicate_candidates[0.0]) )"
   ]
  },
  {
   "cell_type": "markdown",
   "metadata": {},
   "source": [
    "***\n",
    "### Histogram Plots\n"
   ]
  },
  {
   "cell_type": "markdown",
   "metadata": {},
   "source": [
    "Histogram Plots for **Tracks Data Table**"
   ]
  },
  {
   "cell_type": "code",
   "execution_count": 186,
   "metadata": {},
   "outputs": [
    {
     "data": {
      "image/png": "[encoded data removed]",
      "text/plain": [
       "<matplotlib.figure.Figure at 0x115f3de10>"
      ]
     },
     "metadata": {},
     "output_type": "display_data"
    }
   ],
   "source": [
    "fig1, axes1 = plt.subplots(figsize=(12,8),nrows=5, ncols=2)\n",
    "axes1_flattened = axes1.flatten()\n",
    "track_colum_names = np.hstack(tracks.columns)\n",
    "\n",
    "i = 0\n",
    "for ax in axes1_flattened:\n",
    "    if i != tracks.shape[1]-1:\n",
    "        ax.hist(tracks[track_colum_names[i]])\n",
    "        ax.set_title(track_colum_names[i])\n",
    "        ax.set_ylim(0,120)\n",
    "        i = i + 1\n",
    "    else:\n",
    "        ax.hist(tracks[\"linha\"].value_counts())\n",
    "        ax.set_title(track_colum_names[i])\n",
    "        ax.set_ylim(0,120)\n",
    "        i = i + 1\n",
    "fig1.tight_layout();"
   ]
  },
  {
   "cell_type": "markdown",
   "metadata": {},
   "source": [
    "Detailed plot for string data in **linha** column:"
   ]
  },
  {
   "cell_type": "code",
   "execution_count": 187,
   "metadata": {
    "scrolled": true
   },
   "outputs": [
    {
     "data": {
      "image/png": "[encoded data removed]",
      "text/plain": [
       "<matplotlib.figure.Figure at 0x11511d438>"
      ]
     },
     "metadata": {},
     "output_type": "display_data"
    }
   ],
   "source": [
    "tracks[\"linha\"].value_counts().plot(kind='bar',figsize=(12,4));"
   ]
  },
  {
   "cell_type": "markdown",
   "metadata": {},
   "source": [
    "***\n",
    "# Existing Issues - Potential Preprocessing Tasks\n",
    "- Large discrepancy between travel time per ``track_id`` stated in the **tracks data table** and the one calculated from the **trackspoints data table**\n",
    "- Remove duplicate recordings in track_ids\n",
    "- remove track recordings with 0 duration\n",
    "- Drop ``linha`` column due to high number of nan values\n",
    "\n"
   ]
  },
  {
   "cell_type": "markdown",
   "metadata": {},
   "source": [
    "***\n",
    "# To-Do - Suggestions\n",
    "- id columns from **Tracks Data Table** is equal to track id column in **Trackspoints Data Table** --> perform a join between those two and visualize indivual tracks on a map \n",
    "- time series plots\n",
    "- other fancy visualisation\n",
    "- find clusters of similar trajectories\n"
   ]
  },
  {
   "cell_type": "code",
   "execution_count": 188,
   "metadata": {
    "collapsed": true
   },
   "outputs": [],
   "source": [
    "import gmplot\n",
    "\n",
    "colors = 'red','blue','green','yellow','brown','orange','pink','purple','springgreen','firebrick'\n",
    "\n",
    "def plottracks(track_id, color):\n",
    "    latitudes = trackspoints[trackspoints['track_id'].isin([track_id])]['latitude']\n",
    "    longitudes = trackspoints[trackspoints['track_id'].isin([track_id])]['longitude']\n",
    "    gmap.plot(latitudes, longitudes, color, edge_width=5)\n",
    "\n",
    "init_lat = trackspoints[trackspoints['track_id'].isin([1])]['latitude'][0]    \n",
    "init_long = longitudes = trackspoints[trackspoints['track_id'].isin([1])]['longitude'][0]\n",
    "\n",
    "gmap = gmplot.GoogleMapPlotter(init_lat, init_long, 18)\n",
    "for track_id in range(1,10):\n",
    "    plottracks(track_id, colors[track_id-1])\n",
    "gmap.draw(\"map10.html\")    \n",
    "\n"
   ]
  },
  {
   "cell_type": "code",
   "execution_count": 189,
   "metadata": {},
   "outputs": [
    {
     "data": {
      "text/plain": [
       "38092"
      ]
     },
     "execution_count": 189,
     "metadata": {},
     "output_type": "execute_result"
    }
   ],
   "source": [
    "max(trackspoints['track_id'])\n",
    "#trackspoints\n",
    "\n",
    "#trackspoints[trackspoints['track_id'].isin([8])]"
   ]
  },
  {
   "cell_type": "code",
   "execution_count": 190,
   "metadata": {
    "collapsed": true
   },
   "outputs": [],
   "source": [
    "init_lat = trackspoints[trackspoints['track_id'].isin([1])]['latitude'][0]    \n",
    "init_long = longitudes = trackspoints[trackspoints['track_id'].isin([1])]['longitude'][0]\n",
    "\n",
    "heat_lats = trackspoints['latitude']\n",
    "heat_lngs = trackspoints['longitude']\n",
    "gmap = gmplot.GoogleMapPlotter(init_lat, init_long, 18)\n",
    "gmap.heatmap(heat_lats, heat_lngs)\n",
    "gmap.draw(\"mapHeat.html\") "
   ]
  },
  {
   "cell_type": "code",
   "execution_count": 250,
   "metadata": {
    "collapsed": true
   },
   "outputs": [],
   "source": [
    "# plot duplicate\n",
    "track_points_duplicate = trackspoints[trackspoints[\"track_id\"] == 19]\n",
    "# histograms\n",
    "\n",
    "init_lat = track_points_duplicate[\"latitude\"].iloc[0]\n",
    "init_long = track_points_duplicate[\"longitude\"].iloc[0]\n",
    "\n",
    "gmas = gmplot.GoogleMapPlotter(init_lat, init_long, 18)\n",
    "gmas.plot(track_points_duplicate[\"latitude\"].iloc[1:], track_points_duplicate[\"longitude\"].iloc[1:], edge_width=5)\n",
    "gmas.draw(\"longest_time_diff3.html\")"
   ]
  },
  {
   "cell_type": "code",
   "execution_count": 220,
   "metadata": {},
   "outputs": [],
   "source": [
    "import datetime as dt\n",
    "# find tracks where there is a big time difference between 2 points\n",
    "def find_largest_difference(track):\n",
    "    biggest_diff = dt.datetime.now()\n",
    "    biggest_diff = biggest_diff-biggest_diff\n",
    "    \n",
    "    start_id = 0\n",
    "    stop_id = 0\n",
    "    track_id = track.iloc[0][\"track_id\"]\n",
    "    for p in range(1,len(track)):\n",
    "        #calculate difference\n",
    "        new_diff = track.iloc[p][\"time\"] - track.iloc[p-1][\"time\"]\n",
    "        if new_diff > biggest_diff:\n",
    "            biggest_diff = new_diff\n",
    "            start_id = p-1\n",
    "            stop_id = p\n",
    "    largest_diff = [track_id, start_id, stop_id, biggest_diff]\n",
    "    #print(biggest_diff)\n",
    "    #print(start_id)\n",
    "    #print(stop_id)\n",
    "    return largest_diff"
   ]
  },
  {
   "cell_type": "code",
   "execution_count": 236,
   "metadata": {},
   "outputs": [],
   "source": [
    "diffs = pd.DataFrame(columns=[\"track_id\",\"start_id\",\"stop_id\",\"diff\"])\n",
    "\n",
    "max_id = trackspoints.loc[trackspoints[\"track_id\"].idxmax()][\"track_id\"]\n",
    "\n",
    "for id in range(1,max_id):\n",
    "    #print(id)\n",
    "    df_helper = trackspoints[trackspoints[\"track_id\"] == id]\n",
    "    if len(df_helper) != 0:\n",
    "        diffs.loc[id] = find_largest_difference(df_helper)"
   ]
  },
  {
   "cell_type": "code",
   "execution_count": 238,
   "metadata": {},
   "outputs": [
    {
     "data": {
      "text/plain": [
       "track_id                 25\n",
       "start_id                  8\n",
       "stop_id                   9\n",
       "diff        0 days 00:22:48\n",
       "Name: 25, dtype: object"
      ]
     },
     "execution_count": 238,
     "metadata": {},
     "output_type": "execute_result"
    }
   ],
   "source": [
    "#track_points_duplicate.iloc[0][\"track_id\"]\n",
    "diffs.loc[diffs[\"diff\"].idxmax()]"
   ]
  },
  {
   "cell_type": "code",
   "execution_count": 230,
   "metadata": {},
   "outputs": [
    {
     "data": {
      "text/plain": [
       "38092"
      ]
     },
     "execution_count": 230,
     "metadata": {},
     "output_type": "execute_result"
    }
   ],
   "source": [
    "trackspoints[trackspoints[\"track_id\"] == max (trackspoints[\"track_id\"])].iloc[0][\"track_id\"]"
   ]
  },
  {
   "cell_type": "code",
   "execution_count": 235,
   "metadata": {},
   "outputs": [
    {
     "data": {
      "text/plain": [
       "38092"
      ]
     },
     "execution_count": 235,
     "metadata": {},
     "output_type": "execute_result"
    }
   ],
   "source": [
    "trackspoints.loc[trackspoints[\"track_id\"].idxmax()][\"track_id\"]"
   ]
  },
  {
   "cell_type": "code",
   "execution_count": 251,
   "metadata": {},
   "outputs": [
    {
     "data": {
      "text/html": [
       "<div>\n",
       "<style>\n",
       "    .dataframe thead tr:only-child th {\n",
       "        text-align: right;\n",
       "    }\n",
       "\n",
       "    .dataframe thead th {\n",
       "        text-align: left;\n",
       "    }\n",
       "\n",
       "    .dataframe tbody tr th {\n",
       "        vertical-align: top;\n",
       "    }\n",
       "</style>\n",
       "<table border=\"1\" class=\"dataframe\">\n",
       "  <thead>\n",
       "    <tr style=\"text-align: right;\">\n",
       "      <th></th>\n",
       "      <th>id</th>\n",
       "      <th>latitude</th>\n",
       "      <th>longitude</th>\n",
       "      <th>track_id</th>\n",
       "      <th>time</th>\n",
       "    </tr>\n",
       "  </thead>\n",
       "  <tbody>\n",
       "    <tr>\n",
       "      <th>1026</th>\n",
       "      <td>1235</td>\n",
       "      <td>-10.911231</td>\n",
       "      <td>-37.052674</td>\n",
       "      <td>19</td>\n",
       "      <td>2014-10-15 09:35:32</td>\n",
       "    </tr>\n",
       "    <tr>\n",
       "      <th>1027</th>\n",
       "      <td>1236</td>\n",
       "      <td>-10.911248</td>\n",
       "      <td>-37.052667</td>\n",
       "      <td>19</td>\n",
       "      <td>2014-10-15 09:35:42</td>\n",
       "    </tr>\n",
       "    <tr>\n",
       "      <th>1028</th>\n",
       "      <td>1237</td>\n",
       "      <td>-10.911248</td>\n",
       "      <td>-37.052667</td>\n",
       "      <td>19</td>\n",
       "      <td>2014-10-15 09:35:52</td>\n",
       "    </tr>\n",
       "    <tr>\n",
       "      <th>1029</th>\n",
       "      <td>1238</td>\n",
       "      <td>-10.911248</td>\n",
       "      <td>-37.052667</td>\n",
       "      <td>19</td>\n",
       "      <td>2014-10-15 09:36:02</td>\n",
       "    </tr>\n",
       "    <tr>\n",
       "      <th>1030</th>\n",
       "      <td>1239</td>\n",
       "      <td>-10.911337</td>\n",
       "      <td>-37.052676</td>\n",
       "      <td>19</td>\n",
       "      <td>2014-10-15 09:36:12</td>\n",
       "    </tr>\n",
       "    <tr>\n",
       "      <th>1031</th>\n",
       "      <td>1240</td>\n",
       "      <td>-10.912017</td>\n",
       "      <td>-37.052729</td>\n",
       "      <td>19</td>\n",
       "      <td>2014-10-15 09:36:23</td>\n",
       "    </tr>\n",
       "    <tr>\n",
       "      <th>1032</th>\n",
       "      <td>1241</td>\n",
       "      <td>-10.912247</td>\n",
       "      <td>-37.052734</td>\n",
       "      <td>19</td>\n",
       "      <td>2014-10-15 09:36:33</td>\n",
       "    </tr>\n",
       "    <tr>\n",
       "      <th>1033</th>\n",
       "      <td>1242</td>\n",
       "      <td>-10.912395</td>\n",
       "      <td>-37.052755</td>\n",
       "      <td>19</td>\n",
       "      <td>2014-10-15 09:36:43</td>\n",
       "    </tr>\n",
       "    <tr>\n",
       "      <th>1034</th>\n",
       "      <td>1243</td>\n",
       "      <td>-10.912923</td>\n",
       "      <td>-37.052772</td>\n",
       "      <td>19</td>\n",
       "      <td>2014-10-15 09:36:56</td>\n",
       "    </tr>\n",
       "    <tr>\n",
       "      <th>1035</th>\n",
       "      <td>1244</td>\n",
       "      <td>-10.912923</td>\n",
       "      <td>-37.052777</td>\n",
       "      <td>19</td>\n",
       "      <td>2014-10-15 09:37:07</td>\n",
       "    </tr>\n",
       "    <tr>\n",
       "      <th>1036</th>\n",
       "      <td>1245</td>\n",
       "      <td>-10.912922</td>\n",
       "      <td>-37.052775</td>\n",
       "      <td>19</td>\n",
       "      <td>2014-10-15 09:37:17</td>\n",
       "    </tr>\n",
       "    <tr>\n",
       "      <th>1037</th>\n",
       "      <td>1246</td>\n",
       "      <td>-10.912930</td>\n",
       "      <td>-37.052772</td>\n",
       "      <td>19</td>\n",
       "      <td>2014-10-15 09:37:29</td>\n",
       "    </tr>\n",
       "    <tr>\n",
       "      <th>1038</th>\n",
       "      <td>1247</td>\n",
       "      <td>-10.912930</td>\n",
       "      <td>-37.052775</td>\n",
       "      <td>19</td>\n",
       "      <td>2014-10-15 09:37:39</td>\n",
       "    </tr>\n",
       "    <tr>\n",
       "      <th>1039</th>\n",
       "      <td>1248</td>\n",
       "      <td>-10.913137</td>\n",
       "      <td>-37.052775</td>\n",
       "      <td>19</td>\n",
       "      <td>2014-10-15 09:37:50</td>\n",
       "    </tr>\n",
       "    <tr>\n",
       "      <th>1040</th>\n",
       "      <td>1249</td>\n",
       "      <td>-10.914019</td>\n",
       "      <td>-37.052786</td>\n",
       "      <td>19</td>\n",
       "      <td>2014-10-15 09:38:00</td>\n",
       "    </tr>\n",
       "    <tr>\n",
       "      <th>1041</th>\n",
       "      <td>1250</td>\n",
       "      <td>-10.915116</td>\n",
       "      <td>-37.052815</td>\n",
       "      <td>19</td>\n",
       "      <td>2014-10-15 09:38:11</td>\n",
       "    </tr>\n",
       "    <tr>\n",
       "      <th>1042</th>\n",
       "      <td>1251</td>\n",
       "      <td>-10.915408</td>\n",
       "      <td>-37.052803</td>\n",
       "      <td>19</td>\n",
       "      <td>2014-10-15 09:38:21</td>\n",
       "    </tr>\n",
       "    <tr>\n",
       "      <th>1043</th>\n",
       "      <td>1252</td>\n",
       "      <td>-10.915394</td>\n",
       "      <td>-37.052799</td>\n",
       "      <td>19</td>\n",
       "      <td>2014-10-15 09:38:32</td>\n",
       "    </tr>\n",
       "    <tr>\n",
       "      <th>1044</th>\n",
       "      <td>1253</td>\n",
       "      <td>-10.915468</td>\n",
       "      <td>-37.052793</td>\n",
       "      <td>19</td>\n",
       "      <td>2014-10-15 09:38:43</td>\n",
       "    </tr>\n",
       "    <tr>\n",
       "      <th>1045</th>\n",
       "      <td>1254</td>\n",
       "      <td>-10.916037</td>\n",
       "      <td>-37.052793</td>\n",
       "      <td>19</td>\n",
       "      <td>2014-10-15 09:38:54</td>\n",
       "    </tr>\n",
       "    <tr>\n",
       "      <th>1046</th>\n",
       "      <td>1255</td>\n",
       "      <td>-10.916619</td>\n",
       "      <td>-37.052807</td>\n",
       "      <td>19</td>\n",
       "      <td>2014-10-15 09:39:04</td>\n",
       "    </tr>\n",
       "    <tr>\n",
       "      <th>1047</th>\n",
       "      <td>1256</td>\n",
       "      <td>-10.917339</td>\n",
       "      <td>-37.052826</td>\n",
       "      <td>19</td>\n",
       "      <td>2014-10-15 09:39:14</td>\n",
       "    </tr>\n",
       "    <tr>\n",
       "      <th>1048</th>\n",
       "      <td>1257</td>\n",
       "      <td>-10.917751</td>\n",
       "      <td>-37.052871</td>\n",
       "      <td>19</td>\n",
       "      <td>2014-10-15 09:39:25</td>\n",
       "    </tr>\n",
       "    <tr>\n",
       "      <th>1049</th>\n",
       "      <td>1258</td>\n",
       "      <td>-10.917733</td>\n",
       "      <td>-37.052862</td>\n",
       "      <td>19</td>\n",
       "      <td>2014-10-15 09:39:36</td>\n",
       "    </tr>\n",
       "    <tr>\n",
       "      <th>1050</th>\n",
       "      <td>1259</td>\n",
       "      <td>-10.917732</td>\n",
       "      <td>-37.052861</td>\n",
       "      <td>19</td>\n",
       "      <td>2014-10-15 09:39:47</td>\n",
       "    </tr>\n",
       "    <tr>\n",
       "      <th>1051</th>\n",
       "      <td>1260</td>\n",
       "      <td>-10.917732</td>\n",
       "      <td>-37.052858</td>\n",
       "      <td>19</td>\n",
       "      <td>2014-10-15 09:39:58</td>\n",
       "    </tr>\n",
       "    <tr>\n",
       "      <th>1052</th>\n",
       "      <td>1261</td>\n",
       "      <td>-10.917796</td>\n",
       "      <td>-37.052863</td>\n",
       "      <td>19</td>\n",
       "      <td>2014-10-15 09:40:08</td>\n",
       "    </tr>\n",
       "    <tr>\n",
       "      <th>1053</th>\n",
       "      <td>1262</td>\n",
       "      <td>-10.918336</td>\n",
       "      <td>-37.052879</td>\n",
       "      <td>19</td>\n",
       "      <td>2014-10-15 09:58:25</td>\n",
       "    </tr>\n",
       "    <tr>\n",
       "      <th>1054</th>\n",
       "      <td>1263</td>\n",
       "      <td>-10.918427</td>\n",
       "      <td>-37.053391</td>\n",
       "      <td>19</td>\n",
       "      <td>2014-10-15 09:58:36</td>\n",
       "    </tr>\n",
       "    <tr>\n",
       "      <th>1055</th>\n",
       "      <td>1264</td>\n",
       "      <td>-10.918441</td>\n",
       "      <td>-37.053478</td>\n",
       "      <td>19</td>\n",
       "      <td>2014-10-15 09:58:46</td>\n",
       "    </tr>\n",
       "    <tr>\n",
       "      <th>...</th>\n",
       "      <td>...</td>\n",
       "      <td>...</td>\n",
       "      <td>...</td>\n",
       "      <td>...</td>\n",
       "      <td>...</td>\n",
       "    </tr>\n",
       "    <tr>\n",
       "      <th>1110</th>\n",
       "      <td>1319</td>\n",
       "      <td>-10.918335</td>\n",
       "      <td>-37.074773</td>\n",
       "      <td>19</td>\n",
       "      <td>2014-10-15 10:08:29</td>\n",
       "    </tr>\n",
       "    <tr>\n",
       "      <th>1111</th>\n",
       "      <td>1320</td>\n",
       "      <td>-10.918351</td>\n",
       "      <td>-37.074894</td>\n",
       "      <td>19</td>\n",
       "      <td>2014-10-15 10:08:40</td>\n",
       "    </tr>\n",
       "    <tr>\n",
       "      <th>1112</th>\n",
       "      <td>1321</td>\n",
       "      <td>-10.918395</td>\n",
       "      <td>-37.075700</td>\n",
       "      <td>19</td>\n",
       "      <td>2014-10-15 10:08:51</td>\n",
       "    </tr>\n",
       "    <tr>\n",
       "      <th>1113</th>\n",
       "      <td>1322</td>\n",
       "      <td>-10.918452</td>\n",
       "      <td>-37.076836</td>\n",
       "      <td>19</td>\n",
       "      <td>2014-10-15 10:09:01</td>\n",
       "    </tr>\n",
       "    <tr>\n",
       "      <th>1114</th>\n",
       "      <td>1323</td>\n",
       "      <td>-10.918492</td>\n",
       "      <td>-37.078194</td>\n",
       "      <td>19</td>\n",
       "      <td>2014-10-15 10:09:11</td>\n",
       "    </tr>\n",
       "    <tr>\n",
       "      <th>1115</th>\n",
       "      <td>1324</td>\n",
       "      <td>-10.918486</td>\n",
       "      <td>-37.078581</td>\n",
       "      <td>19</td>\n",
       "      <td>2014-10-15 10:09:22</td>\n",
       "    </tr>\n",
       "    <tr>\n",
       "      <th>1116</th>\n",
       "      <td>1325</td>\n",
       "      <td>-10.918502</td>\n",
       "      <td>-37.078799</td>\n",
       "      <td>19</td>\n",
       "      <td>2014-10-15 10:09:32</td>\n",
       "    </tr>\n",
       "    <tr>\n",
       "      <th>1117</th>\n",
       "      <td>1326</td>\n",
       "      <td>-10.918550</td>\n",
       "      <td>-37.079566</td>\n",
       "      <td>19</td>\n",
       "      <td>2014-10-15 10:09:43</td>\n",
       "    </tr>\n",
       "    <tr>\n",
       "      <th>1118</th>\n",
       "      <td>1327</td>\n",
       "      <td>-10.918597</td>\n",
       "      <td>-37.080657</td>\n",
       "      <td>19</td>\n",
       "      <td>2014-10-15 10:09:54</td>\n",
       "    </tr>\n",
       "    <tr>\n",
       "      <th>1119</th>\n",
       "      <td>1328</td>\n",
       "      <td>-10.918598</td>\n",
       "      <td>-37.081374</td>\n",
       "      <td>19</td>\n",
       "      <td>2014-10-15 10:10:05</td>\n",
       "    </tr>\n",
       "    <tr>\n",
       "      <th>1120</th>\n",
       "      <td>1329</td>\n",
       "      <td>-10.918598</td>\n",
       "      <td>-37.081458</td>\n",
       "      <td>19</td>\n",
       "      <td>2014-10-15 10:10:15</td>\n",
       "    </tr>\n",
       "    <tr>\n",
       "      <th>1121</th>\n",
       "      <td>1330</td>\n",
       "      <td>-10.918677</td>\n",
       "      <td>-37.082266</td>\n",
       "      <td>19</td>\n",
       "      <td>2014-10-15 10:10:25</td>\n",
       "    </tr>\n",
       "    <tr>\n",
       "      <th>1122</th>\n",
       "      <td>1331</td>\n",
       "      <td>-10.918822</td>\n",
       "      <td>-37.084025</td>\n",
       "      <td>19</td>\n",
       "      <td>2014-10-15 10:10:36</td>\n",
       "    </tr>\n",
       "    <tr>\n",
       "      <th>1123</th>\n",
       "      <td>1332</td>\n",
       "      <td>-10.919149</td>\n",
       "      <td>-37.085692</td>\n",
       "      <td>19</td>\n",
       "      <td>2014-10-15 10:10:46</td>\n",
       "    </tr>\n",
       "    <tr>\n",
       "      <th>1124</th>\n",
       "      <td>1333</td>\n",
       "      <td>-10.919824</td>\n",
       "      <td>-37.087419</td>\n",
       "      <td>19</td>\n",
       "      <td>2014-10-15 10:10:57</td>\n",
       "    </tr>\n",
       "    <tr>\n",
       "      <th>1125</th>\n",
       "      <td>1334</td>\n",
       "      <td>-10.920178</td>\n",
       "      <td>-37.088413</td>\n",
       "      <td>19</td>\n",
       "      <td>2014-10-15 10:11:08</td>\n",
       "    </tr>\n",
       "    <tr>\n",
       "      <th>1126</th>\n",
       "      <td>1335</td>\n",
       "      <td>-10.920299</td>\n",
       "      <td>-37.089180</td>\n",
       "      <td>19</td>\n",
       "      <td>2014-10-15 10:11:19</td>\n",
       "    </tr>\n",
       "    <tr>\n",
       "      <th>1127</th>\n",
       "      <td>1336</td>\n",
       "      <td>-10.920726</td>\n",
       "      <td>-37.089920</td>\n",
       "      <td>19</td>\n",
       "      <td>2014-10-15 10:11:29</td>\n",
       "    </tr>\n",
       "    <tr>\n",
       "      <th>1128</th>\n",
       "      <td>1337</td>\n",
       "      <td>-10.921229</td>\n",
       "      <td>-37.091078</td>\n",
       "      <td>19</td>\n",
       "      <td>2014-10-15 10:11:40</td>\n",
       "    </tr>\n",
       "    <tr>\n",
       "      <th>1129</th>\n",
       "      <td>1338</td>\n",
       "      <td>-10.921778</td>\n",
       "      <td>-37.092558</td>\n",
       "      <td>19</td>\n",
       "      <td>2014-10-15 10:11:50</td>\n",
       "    </tr>\n",
       "    <tr>\n",
       "      <th>1130</th>\n",
       "      <td>1339</td>\n",
       "      <td>-10.922193</td>\n",
       "      <td>-37.093754</td>\n",
       "      <td>19</td>\n",
       "      <td>2014-10-15 10:12:00</td>\n",
       "    </tr>\n",
       "    <tr>\n",
       "      <th>1131</th>\n",
       "      <td>1340</td>\n",
       "      <td>-10.922234</td>\n",
       "      <td>-37.093962</td>\n",
       "      <td>19</td>\n",
       "      <td>2014-10-15 10:12:11</td>\n",
       "    </tr>\n",
       "    <tr>\n",
       "      <th>1132</th>\n",
       "      <td>1341</td>\n",
       "      <td>-10.922334</td>\n",
       "      <td>-37.094183</td>\n",
       "      <td>19</td>\n",
       "      <td>2014-10-15 10:12:22</td>\n",
       "    </tr>\n",
       "    <tr>\n",
       "      <th>1133</th>\n",
       "      <td>1342</td>\n",
       "      <td>-10.922629</td>\n",
       "      <td>-37.095006</td>\n",
       "      <td>19</td>\n",
       "      <td>2014-10-15 10:12:32</td>\n",
       "    </tr>\n",
       "    <tr>\n",
       "      <th>1134</th>\n",
       "      <td>1343</td>\n",
       "      <td>-10.922661</td>\n",
       "      <td>-37.096500</td>\n",
       "      <td>19</td>\n",
       "      <td>2014-10-15 10:12:43</td>\n",
       "    </tr>\n",
       "    <tr>\n",
       "      <th>1135</th>\n",
       "      <td>1344</td>\n",
       "      <td>-10.921952</td>\n",
       "      <td>-37.098567</td>\n",
       "      <td>19</td>\n",
       "      <td>2014-10-15 10:12:54</td>\n",
       "    </tr>\n",
       "    <tr>\n",
       "      <th>1136</th>\n",
       "      <td>1345</td>\n",
       "      <td>-10.921450</td>\n",
       "      <td>-37.099923</td>\n",
       "      <td>19</td>\n",
       "      <td>2014-10-15 10:13:05</td>\n",
       "    </tr>\n",
       "    <tr>\n",
       "      <th>1137</th>\n",
       "      <td>1346</td>\n",
       "      <td>-10.921378</td>\n",
       "      <td>-37.100170</td>\n",
       "      <td>19</td>\n",
       "      <td>2014-10-15 10:13:15</td>\n",
       "    </tr>\n",
       "    <tr>\n",
       "      <th>1138</th>\n",
       "      <td>1347</td>\n",
       "      <td>-10.921394</td>\n",
       "      <td>-37.100099</td>\n",
       "      <td>19</td>\n",
       "      <td>2014-10-15 10:13:25</td>\n",
       "    </tr>\n",
       "    <tr>\n",
       "      <th>1139</th>\n",
       "      <td>1348</td>\n",
       "      <td>-10.921391</td>\n",
       "      <td>-37.100093</td>\n",
       "      <td>19</td>\n",
       "      <td>2014-10-15 10:13:36</td>\n",
       "    </tr>\n",
       "  </tbody>\n",
       "</table>\n",
       "<p>114 rows × 5 columns</p>\n",
       "</div>"
      ],
      "text/plain": [
       "        id   latitude  longitude  track_id                time\n",
       "1026  1235 -10.911231 -37.052674        19 2014-10-15 09:35:32\n",
       "1027  1236 -10.911248 -37.052667        19 2014-10-15 09:35:42\n",
       "1028  1237 -10.911248 -37.052667        19 2014-10-15 09:35:52\n",
       "1029  1238 -10.911248 -37.052667        19 2014-10-15 09:36:02\n",
       "1030  1239 -10.911337 -37.052676        19 2014-10-15 09:36:12\n",
       "1031  1240 -10.912017 -37.052729        19 2014-10-15 09:36:23\n",
       "1032  1241 -10.912247 -37.052734        19 2014-10-15 09:36:33\n",
       "1033  1242 -10.912395 -37.052755        19 2014-10-15 09:36:43\n",
       "1034  1243 -10.912923 -37.052772        19 2014-10-15 09:36:56\n",
       "1035  1244 -10.912923 -37.052777        19 2014-10-15 09:37:07\n",
       "1036  1245 -10.912922 -37.052775        19 2014-10-15 09:37:17\n",
       "1037  1246 -10.912930 -37.052772        19 2014-10-15 09:37:29\n",
       "1038  1247 -10.912930 -37.052775        19 2014-10-15 09:37:39\n",
       "1039  1248 -10.913137 -37.052775        19 2014-10-15 09:37:50\n",
       "1040  1249 -10.914019 -37.052786        19 2014-10-15 09:38:00\n",
       "1041  1250 -10.915116 -37.052815        19 2014-10-15 09:38:11\n",
       "1042  1251 -10.915408 -37.052803        19 2014-10-15 09:38:21\n",
       "1043  1252 -10.915394 -37.052799        19 2014-10-15 09:38:32\n",
       "1044  1253 -10.915468 -37.052793        19 2014-10-15 09:38:43\n",
       "1045  1254 -10.916037 -37.052793        19 2014-10-15 09:38:54\n",
       "1046  1255 -10.916619 -37.052807        19 2014-10-15 09:39:04\n",
       "1047  1256 -10.917339 -37.052826        19 2014-10-15 09:39:14\n",
       "1048  1257 -10.917751 -37.052871        19 2014-10-15 09:39:25\n",
       "1049  1258 -10.917733 -37.052862        19 2014-10-15 09:39:36\n",
       "1050  1259 -10.917732 -37.052861        19 2014-10-15 09:39:47\n",
       "1051  1260 -10.917732 -37.052858        19 2014-10-15 09:39:58\n",
       "1052  1261 -10.917796 -37.052863        19 2014-10-15 09:40:08\n",
       "1053  1262 -10.918336 -37.052879        19 2014-10-15 09:58:25\n",
       "1054  1263 -10.918427 -37.053391        19 2014-10-15 09:58:36\n",
       "1055  1264 -10.918441 -37.053478        19 2014-10-15 09:58:46\n",
       "...    ...        ...        ...       ...                 ...\n",
       "1110  1319 -10.918335 -37.074773        19 2014-10-15 10:08:29\n",
       "1111  1320 -10.918351 -37.074894        19 2014-10-15 10:08:40\n",
       "1112  1321 -10.918395 -37.075700        19 2014-10-15 10:08:51\n",
       "1113  1322 -10.918452 -37.076836        19 2014-10-15 10:09:01\n",
       "1114  1323 -10.918492 -37.078194        19 2014-10-15 10:09:11\n",
       "1115  1324 -10.918486 -37.078581        19 2014-10-15 10:09:22\n",
       "1116  1325 -10.918502 -37.078799        19 2014-10-15 10:09:32\n",
       "1117  1326 -10.918550 -37.079566        19 2014-10-15 10:09:43\n",
       "1118  1327 -10.918597 -37.080657        19 2014-10-15 10:09:54\n",
       "1119  1328 -10.918598 -37.081374        19 2014-10-15 10:10:05\n",
       "1120  1329 -10.918598 -37.081458        19 2014-10-15 10:10:15\n",
       "1121  1330 -10.918677 -37.082266        19 2014-10-15 10:10:25\n",
       "1122  1331 -10.918822 -37.084025        19 2014-10-15 10:10:36\n",
       "1123  1332 -10.919149 -37.085692        19 2014-10-15 10:10:46\n",
       "1124  1333 -10.919824 -37.087419        19 2014-10-15 10:10:57\n",
       "1125  1334 -10.920178 -37.088413        19 2014-10-15 10:11:08\n",
       "1126  1335 -10.920299 -37.089180        19 2014-10-15 10:11:19\n",
       "1127  1336 -10.920726 -37.089920        19 2014-10-15 10:11:29\n",
       "1128  1337 -10.921229 -37.091078        19 2014-10-15 10:11:40\n",
       "1129  1338 -10.921778 -37.092558        19 2014-10-15 10:11:50\n",
       "1130  1339 -10.922193 -37.093754        19 2014-10-15 10:12:00\n",
       "1131  1340 -10.922234 -37.093962        19 2014-10-15 10:12:11\n",
       "1132  1341 -10.922334 -37.094183        19 2014-10-15 10:12:22\n",
       "1133  1342 -10.922629 -37.095006        19 2014-10-15 10:12:32\n",
       "1134  1343 -10.922661 -37.096500        19 2014-10-15 10:12:43\n",
       "1135  1344 -10.921952 -37.098567        19 2014-10-15 10:12:54\n",
       "1136  1345 -10.921450 -37.099923        19 2014-10-15 10:13:05\n",
       "1137  1346 -10.921378 -37.100170        19 2014-10-15 10:13:15\n",
       "1138  1347 -10.921394 -37.100099        19 2014-10-15 10:13:25\n",
       "1139  1348 -10.921391 -37.100093        19 2014-10-15 10:13:36\n",
       "\n",
       "[114 rows x 5 columns]"
      ]
     },
     "execution_count": 251,
     "metadata": {},
     "output_type": "execute_result"
    }
   ],
   "source": [
    "trackspoints[trackspoints[\"track_id\"] == 19]"
   ]
  },
  {
   "cell_type": "code",
   "execution_count": 248,
   "metadata": {},
   "outputs": [
    {
     "data": {
      "text/html": [
       "<div>\n",
       "<style>\n",
       "    .dataframe thead tr:only-child th {\n",
       "        text-align: right;\n",
       "    }\n",
       "\n",
       "    .dataframe thead th {\n",
       "        text-align: left;\n",
       "    }\n",
       "\n",
       "    .dataframe tbody tr th {\n",
       "        vertical-align: top;\n",
       "    }\n",
       "</style>\n",
       "<table border=\"1\" class=\"dataframe\">\n",
       "  <thead>\n",
       "    <tr style=\"text-align: right;\">\n",
       "      <th></th>\n",
       "      <th>track_id</th>\n",
       "      <th>start_id</th>\n",
       "      <th>stop_id</th>\n",
       "      <th>diff</th>\n",
       "    </tr>\n",
       "  </thead>\n",
       "  <tbody>\n",
       "    <tr>\n",
       "      <th>25</th>\n",
       "      <td>25</td>\n",
       "      <td>8</td>\n",
       "      <td>9</td>\n",
       "      <td>00:22:48</td>\n",
       "    </tr>\n",
       "    <tr>\n",
       "      <th>37961</th>\n",
       "      <td>37961</td>\n",
       "      <td>3</td>\n",
       "      <td>4</td>\n",
       "      <td>00:20:27</td>\n",
       "    </tr>\n",
       "    <tr>\n",
       "      <th>19</th>\n",
       "      <td>19</td>\n",
       "      <td>26</td>\n",
       "      <td>27</td>\n",
       "      <td>00:18:17</td>\n",
       "    </tr>\n",
       "    <tr>\n",
       "      <th>40</th>\n",
       "      <td>40</td>\n",
       "      <td>106</td>\n",
       "      <td>107</td>\n",
       "      <td>00:10:26</td>\n",
       "    </tr>\n",
       "    <tr>\n",
       "      <th>39</th>\n",
       "      <td>39</td>\n",
       "      <td>106</td>\n",
       "      <td>107</td>\n",
       "      <td>00:10:26</td>\n",
       "    </tr>\n",
       "    <tr>\n",
       "      <th>27</th>\n",
       "      <td>27</td>\n",
       "      <td>246</td>\n",
       "      <td>247</td>\n",
       "      <td>00:09:03</td>\n",
       "    </tr>\n",
       "    <tr>\n",
       "      <th>26</th>\n",
       "      <td>26</td>\n",
       "      <td>246</td>\n",
       "      <td>247</td>\n",
       "      <td>00:09:03</td>\n",
       "    </tr>\n",
       "    <tr>\n",
       "      <th>17</th>\n",
       "      <td>17</td>\n",
       "      <td>141</td>\n",
       "      <td>142</td>\n",
       "      <td>00:05:22</td>\n",
       "    </tr>\n",
       "    <tr>\n",
       "      <th>37965</th>\n",
       "      <td>37965</td>\n",
       "      <td>21</td>\n",
       "      <td>22</td>\n",
       "      <td>00:04:55</td>\n",
       "    </tr>\n",
       "    <tr>\n",
       "      <th>24</th>\n",
       "      <td>24</td>\n",
       "      <td>47</td>\n",
       "      <td>48</td>\n",
       "      <td>00:03:58</td>\n",
       "    </tr>\n",
       "    <tr>\n",
       "      <th>4</th>\n",
       "      <td>4</td>\n",
       "      <td>22</td>\n",
       "      <td>23</td>\n",
       "      <td>00:03:56</td>\n",
       "    </tr>\n",
       "    <tr>\n",
       "      <th>37992</th>\n",
       "      <td>37992</td>\n",
       "      <td>0</td>\n",
       "      <td>1</td>\n",
       "      <td>00:03:19</td>\n",
       "    </tr>\n",
       "    <tr>\n",
       "      <th>38024</th>\n",
       "      <td>38024</td>\n",
       "      <td>53</td>\n",
       "      <td>54</td>\n",
       "      <td>00:02:54</td>\n",
       "    </tr>\n",
       "    <tr>\n",
       "      <th>147</th>\n",
       "      <td>147</td>\n",
       "      <td>3</td>\n",
       "      <td>4</td>\n",
       "      <td>00:02:24</td>\n",
       "    </tr>\n",
       "    <tr>\n",
       "      <th>46</th>\n",
       "      <td>46</td>\n",
       "      <td>53</td>\n",
       "      <td>54</td>\n",
       "      <td>00:02:20</td>\n",
       "    </tr>\n",
       "    <tr>\n",
       "      <th>38003</th>\n",
       "      <td>38003</td>\n",
       "      <td>101</td>\n",
       "      <td>102</td>\n",
       "      <td>00:02:13</td>\n",
       "    </tr>\n",
       "    <tr>\n",
       "      <th>37989</th>\n",
       "      <td>37989</td>\n",
       "      <td>33</td>\n",
       "      <td>34</td>\n",
       "      <td>00:02:08</td>\n",
       "    </tr>\n",
       "    <tr>\n",
       "      <th>209</th>\n",
       "      <td>209</td>\n",
       "      <td>57</td>\n",
       "      <td>58</td>\n",
       "      <td>00:02:04</td>\n",
       "    </tr>\n",
       "    <tr>\n",
       "      <th>38031</th>\n",
       "      <td>38031</td>\n",
       "      <td>82</td>\n",
       "      <td>83</td>\n",
       "      <td>00:01:51</td>\n",
       "    </tr>\n",
       "    <tr>\n",
       "      <th>37955</th>\n",
       "      <td>37955</td>\n",
       "      <td>64</td>\n",
       "      <td>65</td>\n",
       "      <td>00:01:42</td>\n",
       "    </tr>\n",
       "  </tbody>\n",
       "</table>\n",
       "</div>"
      ],
      "text/plain": [
       "      track_id start_id stop_id     diff\n",
       "25          25        8       9 00:22:48\n",
       "37961    37961        3       4 00:20:27\n",
       "19          19       26      27 00:18:17\n",
       "40          40      106     107 00:10:26\n",
       "39          39      106     107 00:10:26\n",
       "27          27      246     247 00:09:03\n",
       "26          26      246     247 00:09:03\n",
       "17          17      141     142 00:05:22\n",
       "37965    37965       21      22 00:04:55\n",
       "24          24       47      48 00:03:58\n",
       "4            4       22      23 00:03:56\n",
       "37992    37992        0       1 00:03:19\n",
       "38024    38024       53      54 00:02:54\n",
       "147        147        3       4 00:02:24\n",
       "46          46       53      54 00:02:20\n",
       "38003    38003      101     102 00:02:13\n",
       "37989    37989       33      34 00:02:08\n",
       "209        209       57      58 00:02:04\n",
       "38031    38031       82      83 00:01:51\n",
       "37955    37955       64      65 00:01:42"
      ]
     },
     "execution_count": 248,
     "metadata": {},
     "output_type": "execute_result"
    }
   ],
   "source": [
    "# 20 tracks with the biggest time difference between two gps measurements\n",
    "diffs.sort_values(by = ['diff'], ascending = 0).head(20)"
   ]
  },
  {
   "cell_type": "code",
   "execution_count": null,
   "metadata": {
    "collapsed": true
   },
   "outputs": [],
   "source": []
  }
 ],
 "metadata": {
  "kernelspec": {
   "display_name": "Python [conda env:datamining]",
   "language": "python",
   "name": "conda-env-datamining-py"
  },
  "language_info": {
   "codemirror_mode": {
    "name": "ipython",
    "version": 3
   },
   "file_extension": ".py",
   "mimetype": "text/x-python",
   "name": "python",
   "nbconvert_exporter": "python",
   "pygments_lexer": "ipython3",
   "version": "3.6.2"
  }
 },
 "nbformat": 4,
 "nbformat_minor": 2
}
