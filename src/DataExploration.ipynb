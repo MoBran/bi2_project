{
 "cells": [
  {
   "cell_type": "raw",
   "metadata": {},
   "source": [
    "<!-- Show/hide code in rendered HTML see \n",
    "http://chris-said.io/2016/02/13/how-to-make-polished-jupyter-presentations-with-optional-code-visibility/ -->\n",
    "<script>\n",
    "  function code_toggle() {\n",
    "    if (code_shown){\n",
    "      $('div.input').hide('500');\n",
    "      $('#toggleButton').val('Show Code')\n",
    "    } else {\n",
    "      $('div.input').show('500');\n",
    "      $('#toggleButton').val('Hide Code')\n",
    "    }\n",
    "    code_shown = !code_shown\n",
    "  }\n",
    "\n",
    "  $( document ).ready(function(){\n",
    "    code_shown=false;\n",
    "    $('div.input').hide()\n",
    "  });\n",
    "</script>\n",
    "<form action=\"javascript:code_toggle()\"><input type=\"submit\" id=\"toggleButton\" value=\"Show Code\"></form>"
   ]
  },
  {
   "cell_type": "code",
   "execution_count": 1,
   "metadata": {
    "collapsed": true
   },
   "outputs": [],
   "source": [
    "%load_ext autoreload\n",
    "%autoreload 2\n",
    "%matplotlib inline\n",
    "\n",
    "import os\n",
    "import pandas as pd\n",
    "import numpy as np\n",
    "from sklearn import preprocessing\n",
    "\n",
    "#Visualisation Libraries\n",
    "import matplotlib as mpl\n",
    "import matplotlib.pyplot as plt\n",
    "mpl.style.use('ggplot')\n",
    "import seaborn as sns\n",
    "\n",
    "# Self written packages\n",
    "from data.make_data import DataSet"
   ]
  },
  {
   "cell_type": "code",
   "execution_count": 2,
   "metadata": {},
   "outputs": [
    {
     "name": "stdout",
     "output_type": "stream",
     "text": [
      "Start reading data:\n",
      "Read  C:\\Users\\Lukas\\Dropbox\\WS2017_18\\Gruppenarbeiten\\BI2\\bi2_project\\data\\go_track_tracks.csv\n",
      "Read  C:\\Users\\Lukas\\Dropbox\\WS2017_18\\Gruppenarbeiten\\BI2\\bi2_project\\data\\go_track_trackspoints.csv\n"
     ]
    }
   ],
   "source": [
    "print(\"Start reading data:\")\n",
    "parentdir = os.path.dirname(os.getcwd())\n",
    "datadir = os.path.join(parentdir, \"data\")\n",
    "dataset = DataSet(datadir,file_ending=\".csv\")\n",
    "tracks, trackspoints = dataset.get_data()\n",
    "tracks = dataset._preprocess_tracks_data(tracks)\n",
    "trackspoints = dataset._preprocess_trackspoint_data(trackspoints)"
   ]
  },
  {
   "cell_type": "markdown",
   "metadata": {},
   "source": [
    "## Data Set Description\n",
    "The dataset is composed by two tables. The first table **tracks** presents general \n",
    "attributes and each instance has one trajectory that is represented by the table  \n",
    "**trackspoints**. "
   ]
  },
  {
   "cell_type": "markdown",
   "metadata": {},
   "source": [
    "### Tracks Data Table - a list of trajectories  \n",
    "- id_android - it represents the device used to capture the instance;  \n",
    "- speed - it represents the average speed (Km/H)  \n",
    "- time - it represents the time in hours\n",
    "- distance - it represent the total distance (Km)  \n",
    "- rating - it is an evaluation parameter. Evaluation the traffic is a way to verify the volunteers \n",
    "- perception about the traffic during the travel, in other words,  \n",
    " if volunteers move to some place and face traffic jam, maybe they will    evaluate 'bad'. (3-good, 2-normal, 1-bad).  \n",
    "- rating_bus - it is other evaluation parameter. (1 - The amount of people inside the bus is little, 2 - The bus is not crowded, 3- The bus is crowded.  \n",
    "- rating_weather - it is another evaluation parameter. ( 2- sunny, 1- raining).  \n",
    "- car_or_bus - (1 - car, 2-bus)  \n",
    "- linha - information about the bus that does the pathway  "
   ]
  },
  {
   "cell_type": "markdown",
   "metadata": {},
   "source": [
    "First 10 entries:"
   ]
  },
  {
   "cell_type": "code",
   "execution_count": 3,
   "metadata": {
    "scrolled": true
   },
   "outputs": [
    {
     "data": {
      "text/html": [
       "<div>\n",
       "<style>\n",
       "    .dataframe thead tr:only-child th {\n",
       "        text-align: right;\n",
       "    }\n",
       "\n",
       "    .dataframe thead th {\n",
       "        text-align: left;\n",
       "    }\n",
       "\n",
       "    .dataframe tbody tr th {\n",
       "        vertical-align: top;\n",
       "    }\n",
       "</style>\n",
       "<table border=\"1\" class=\"dataframe\">\n",
       "  <thead>\n",
       "    <tr style=\"text-align: right;\">\n",
       "      <th></th>\n",
       "      <th>id</th>\n",
       "      <th>id_android</th>\n",
       "      <th>speed</th>\n",
       "      <th>time</th>\n",
       "      <th>distance</th>\n",
       "      <th>rating</th>\n",
       "      <th>rating_bus</th>\n",
       "      <th>rating_weather</th>\n",
       "      <th>car_or_bus</th>\n",
       "      <th>linha</th>\n",
       "    </tr>\n",
       "  </thead>\n",
       "  <tbody>\n",
       "    <tr>\n",
       "      <th>0</th>\n",
       "      <td>1</td>\n",
       "      <td>0</td>\n",
       "      <td>19.210586</td>\n",
       "      <td>0.138049</td>\n",
       "      <td>2.652</td>\n",
       "      <td>3</td>\n",
       "      <td>0</td>\n",
       "      <td>0</td>\n",
       "      <td>1</td>\n",
       "      <td>no_answer</td>\n",
       "    </tr>\n",
       "    <tr>\n",
       "      <th>1</th>\n",
       "      <td>2</td>\n",
       "      <td>0</td>\n",
       "      <td>30.848229</td>\n",
       "      <td>0.171485</td>\n",
       "      <td>5.290</td>\n",
       "      <td>3</td>\n",
       "      <td>0</td>\n",
       "      <td>0</td>\n",
       "      <td>1</td>\n",
       "      <td>no_answer</td>\n",
       "    </tr>\n",
       "    <tr>\n",
       "      <th>2</th>\n",
       "      <td>3</td>\n",
       "      <td>1</td>\n",
       "      <td>13.560101</td>\n",
       "      <td>0.067699</td>\n",
       "      <td>0.918</td>\n",
       "      <td>3</td>\n",
       "      <td>0</td>\n",
       "      <td>0</td>\n",
       "      <td>2</td>\n",
       "      <td>no_answer</td>\n",
       "    </tr>\n",
       "    <tr>\n",
       "      <th>3</th>\n",
       "      <td>4</td>\n",
       "      <td>1</td>\n",
       "      <td>19.766679</td>\n",
       "      <td>0.389544</td>\n",
       "      <td>7.700</td>\n",
       "      <td>3</td>\n",
       "      <td>0</td>\n",
       "      <td>0</td>\n",
       "      <td>2</td>\n",
       "      <td>no_answer</td>\n",
       "    </tr>\n",
       "    <tr>\n",
       "      <th>4</th>\n",
       "      <td>8</td>\n",
       "      <td>0</td>\n",
       "      <td>25.807401</td>\n",
       "      <td>0.154801</td>\n",
       "      <td>3.995</td>\n",
       "      <td>2</td>\n",
       "      <td>0</td>\n",
       "      <td>0</td>\n",
       "      <td>1</td>\n",
       "      <td>no_answer</td>\n",
       "    </tr>\n",
       "    <tr>\n",
       "      <th>5</th>\n",
       "      <td>10</td>\n",
       "      <td>2</td>\n",
       "      <td>1.346913</td>\n",
       "      <td>0.006682</td>\n",
       "      <td>0.009</td>\n",
       "      <td>2</td>\n",
       "      <td>0</td>\n",
       "      <td>0</td>\n",
       "      <td>1</td>\n",
       "      <td>no_answer</td>\n",
       "    </tr>\n",
       "    <tr>\n",
       "      <th>6</th>\n",
       "      <td>11</td>\n",
       "      <td>3</td>\n",
       "      <td>36.850787</td>\n",
       "      <td>0.228001</td>\n",
       "      <td>8.402</td>\n",
       "      <td>3</td>\n",
       "      <td>0</td>\n",
       "      <td>0</td>\n",
       "      <td>1</td>\n",
       "      <td>no_answer</td>\n",
       "    </tr>\n",
       "    <tr>\n",
       "      <th>7</th>\n",
       "      <td>12</td>\n",
       "      <td>1</td>\n",
       "      <td>17.405131</td>\n",
       "      <td>0.038782</td>\n",
       "      <td>0.675</td>\n",
       "      <td>3</td>\n",
       "      <td>0</td>\n",
       "      <td>0</td>\n",
       "      <td>2</td>\n",
       "      <td>no_answer</td>\n",
       "    </tr>\n",
       "    <tr>\n",
       "      <th>8</th>\n",
       "      <td>13</td>\n",
       "      <td>1</td>\n",
       "      <td>15.395436</td>\n",
       "      <td>0.526844</td>\n",
       "      <td>8.111</td>\n",
       "      <td>3</td>\n",
       "      <td>0</td>\n",
       "      <td>0</td>\n",
       "      <td>2</td>\n",
       "      <td>no_answer</td>\n",
       "    </tr>\n",
       "    <tr>\n",
       "      <th>9</th>\n",
       "      <td>14</td>\n",
       "      <td>1</td>\n",
       "      <td>8.902729</td>\n",
       "      <td>0.003033</td>\n",
       "      <td>0.027</td>\n",
       "      <td>2</td>\n",
       "      <td>0</td>\n",
       "      <td>0</td>\n",
       "      <td>2</td>\n",
       "      <td>no_answer</td>\n",
       "    </tr>\n",
       "  </tbody>\n",
       "</table>\n",
       "</div>"
      ],
      "text/plain": [
       "   id  id_android      speed      time  distance  rating  rating_bus  \\\n",
       "0   1           0  19.210586  0.138049     2.652       3           0   \n",
       "1   2           0  30.848229  0.171485     5.290       3           0   \n",
       "2   3           1  13.560101  0.067699     0.918       3           0   \n",
       "3   4           1  19.766679  0.389544     7.700       3           0   \n",
       "4   8           0  25.807401  0.154801     3.995       2           0   \n",
       "5  10           2   1.346913  0.006682     0.009       2           0   \n",
       "6  11           3  36.850787  0.228001     8.402       3           0   \n",
       "7  12           1  17.405131  0.038782     0.675       3           0   \n",
       "8  13           1  15.395436  0.526844     8.111       3           0   \n",
       "9  14           1   8.902729  0.003033     0.027       2           0   \n",
       "\n",
       "   rating_weather  car_or_bus      linha  \n",
       "0               0           1  no_answer  \n",
       "1               0           1  no_answer  \n",
       "2               0           2  no_answer  \n",
       "3               0           2  no_answer  \n",
       "4               0           1  no_answer  \n",
       "5               0           1  no_answer  \n",
       "6               0           1  no_answer  \n",
       "7               0           2  no_answer  \n",
       "8               0           2  no_answer  \n",
       "9               0           2  no_answer  "
      ]
     },
     "execution_count": 3,
     "metadata": {},
     "output_type": "execute_result"
    }
   ],
   "source": [
    "tracks.iloc[0:10,:]"
   ]
  },
  {
   "cell_type": "markdown",
   "metadata": {},
   "source": [
    "Summary Statistics:"
   ]
  },
  {
   "cell_type": "code",
   "execution_count": 4,
   "metadata": {},
   "outputs": [
    {
     "data": {
      "text/html": [
       "<div>\n",
       "<style>\n",
       "    .dataframe thead tr:only-child th {\n",
       "        text-align: right;\n",
       "    }\n",
       "\n",
       "    .dataframe thead th {\n",
       "        text-align: left;\n",
       "    }\n",
       "\n",
       "    .dataframe tbody tr th {\n",
       "        vertical-align: top;\n",
       "    }\n",
       "</style>\n",
       "<table border=\"1\" class=\"dataframe\">\n",
       "  <thead>\n",
       "    <tr style=\"text-align: right;\">\n",
       "      <th></th>\n",
       "      <th>count</th>\n",
       "      <th>mean</th>\n",
       "      <th>std</th>\n",
       "      <th>min</th>\n",
       "      <th>25%</th>\n",
       "      <th>50%</th>\n",
       "      <th>75%</th>\n",
       "      <th>max</th>\n",
       "    </tr>\n",
       "  </thead>\n",
       "  <tbody>\n",
       "    <tr>\n",
       "      <th>id</th>\n",
       "      <td>163.0</td>\n",
       "      <td>15607.650307</td>\n",
       "      <td>18644.257138</td>\n",
       "      <td>1.000000</td>\n",
       "      <td>48.500000</td>\n",
       "      <td>158.000000</td>\n",
       "      <td>37991.000000</td>\n",
       "      <td>38092.000000</td>\n",
       "    </tr>\n",
       "    <tr>\n",
       "      <th>id_android</th>\n",
       "      <td>163.0</td>\n",
       "      <td>7.386503</td>\n",
       "      <td>7.348742</td>\n",
       "      <td>0.000000</td>\n",
       "      <td>1.000000</td>\n",
       "      <td>4.000000</td>\n",
       "      <td>10.000000</td>\n",
       "      <td>27.000000</td>\n",
       "    </tr>\n",
       "    <tr>\n",
       "      <th>speed</th>\n",
       "      <td>163.0</td>\n",
       "      <td>16.704738</td>\n",
       "      <td>16.016168</td>\n",
       "      <td>0.009779</td>\n",
       "      <td>1.591016</td>\n",
       "      <td>16.685368</td>\n",
       "      <td>23.915760</td>\n",
       "      <td>96.206029</td>\n",
       "    </tr>\n",
       "    <tr>\n",
       "      <th>time</th>\n",
       "      <td>163.0</td>\n",
       "      <td>0.264272</td>\n",
       "      <td>0.292731</td>\n",
       "      <td>0.002175</td>\n",
       "      <td>0.035978</td>\n",
       "      <td>0.214466</td>\n",
       "      <td>0.390572</td>\n",
       "      <td>1.942948</td>\n",
       "    </tr>\n",
       "    <tr>\n",
       "      <th>distance</th>\n",
       "      <td>163.0</td>\n",
       "      <td>5.302411</td>\n",
       "      <td>7.639011</td>\n",
       "      <td>0.001000</td>\n",
       "      <td>0.034500</td>\n",
       "      <td>3.995000</td>\n",
       "      <td>7.333000</td>\n",
       "      <td>55.770000</td>\n",
       "    </tr>\n",
       "    <tr>\n",
       "      <th>rating</th>\n",
       "      <td>163.0</td>\n",
       "      <td>2.515337</td>\n",
       "      <td>0.679105</td>\n",
       "      <td>1.000000</td>\n",
       "      <td>2.000000</td>\n",
       "      <td>3.000000</td>\n",
       "      <td>3.000000</td>\n",
       "      <td>3.000000</td>\n",
       "    </tr>\n",
       "    <tr>\n",
       "      <th>rating_bus</th>\n",
       "      <td>163.0</td>\n",
       "      <td>0.386503</td>\n",
       "      <td>0.687859</td>\n",
       "      <td>0.000000</td>\n",
       "      <td>0.000000</td>\n",
       "      <td>0.000000</td>\n",
       "      <td>1.000000</td>\n",
       "      <td>3.000000</td>\n",
       "    </tr>\n",
       "    <tr>\n",
       "      <th>rating_weather</th>\n",
       "      <td>163.0</td>\n",
       "      <td>0.515337</td>\n",
       "      <td>0.841485</td>\n",
       "      <td>0.000000</td>\n",
       "      <td>0.000000</td>\n",
       "      <td>0.000000</td>\n",
       "      <td>1.000000</td>\n",
       "      <td>2.000000</td>\n",
       "    </tr>\n",
       "    <tr>\n",
       "      <th>car_or_bus</th>\n",
       "      <td>163.0</td>\n",
       "      <td>1.466258</td>\n",
       "      <td>0.500397</td>\n",
       "      <td>1.000000</td>\n",
       "      <td>1.000000</td>\n",
       "      <td>1.000000</td>\n",
       "      <td>2.000000</td>\n",
       "      <td>2.000000</td>\n",
       "    </tr>\n",
       "  </tbody>\n",
       "</table>\n",
       "</div>"
      ],
      "text/plain": [
       "                count          mean           std       min        25%  \\\n",
       "id              163.0  15607.650307  18644.257138  1.000000  48.500000   \n",
       "id_android      163.0      7.386503      7.348742  0.000000   1.000000   \n",
       "speed           163.0     16.704738     16.016168  0.009779   1.591016   \n",
       "time            163.0      0.264272      0.292731  0.002175   0.035978   \n",
       "distance        163.0      5.302411      7.639011  0.001000   0.034500   \n",
       "rating          163.0      2.515337      0.679105  1.000000   2.000000   \n",
       "rating_bus      163.0      0.386503      0.687859  0.000000   0.000000   \n",
       "rating_weather  163.0      0.515337      0.841485  0.000000   0.000000   \n",
       "car_or_bus      163.0      1.466258      0.500397  1.000000   1.000000   \n",
       "\n",
       "                       50%           75%           max  \n",
       "id              158.000000  37991.000000  38092.000000  \n",
       "id_android        4.000000     10.000000     27.000000  \n",
       "speed            16.685368     23.915760     96.206029  \n",
       "time              0.214466      0.390572      1.942948  \n",
       "distance          3.995000      7.333000     55.770000  \n",
       "rating            3.000000      3.000000      3.000000  \n",
       "rating_bus        0.000000      1.000000      3.000000  \n",
       "rating_weather    0.000000      1.000000      2.000000  \n",
       "car_or_bus        1.000000      2.000000      2.000000  "
      ]
     },
     "execution_count": 4,
     "metadata": {},
     "output_type": "execute_result"
    }
   ],
   "source": [
    "tracks.describe().transpose()"
   ]
  },
  {
   "cell_type": "markdown",
   "metadata": {},
   "source": [
    "### The following data shows how well documented the data set tracks is"
   ]
  },
  {
   "cell_type": "code",
   "execution_count": 5,
   "metadata": {},
   "outputs": [
    {
     "name": "stdout",
     "output_type": "stream",
     "text": [
      "number of unique tracks:  163\n",
      "number of unique tracks where avg. speed < 1km/h:  27\n",
      "number of unique tracks where time < 1 minute:  31\n",
      "number of unique tracks where distance < 10 meters:  24\n",
      "number of unique tracks where rating = 0:  0\n",
      "number of unique tracks where rating weather = 0:  116\n",
      "number of unique tracks where rating bus = 0:  116\n",
      "number of unique tracks where car_or_bus = 0:  0\n",
      "number of unique tracks where car_or_bus = 1 (car):  87\n",
      "number of unique tracks where car_or_bus = 2 (bus):  76\n",
      "number of unique tracks where linha = no_answer:  83\n"
     ]
    }
   ],
   "source": [
    "# lets see how well documented the data is\n",
    "# tracks size\n",
    "print(\"number of unique tracks: \" ,len(tracks))\n",
    "print(\"number of unique tracks where avg. speed < 1km/h: \", len(tracks[tracks['speed'] < 1]))\n",
    "print(\"number of unique tracks where time < 1 minute: \", len(tracks[tracks['time']*60 < 1]))\n",
    "print(\"number of unique tracks where distance < 10 meters: \", len(tracks[tracks['distance'] < 0.01]))\n",
    "print(\"number of unique tracks where rating = 0: \", len(tracks[tracks['rating'] == 0]))\n",
    "print(\"number of unique tracks where rating weather = 0: \", len(tracks[tracks['rating_weather'] == 0]))\n",
    "print(\"number of unique tracks where rating bus = 0: \", len(tracks[tracks['rating_bus'] == 0]))\n",
    "print(\"number of unique tracks where car_or_bus = 0: \", len(tracks[tracks['car_or_bus'] == 0]))\n",
    "print(\"number of unique tracks where car_or_bus = 1 (car): \", len(tracks[tracks['car_or_bus'] == 1]))\n",
    "print(\"number of unique tracks where car_or_bus = 2 (bus): \", len(tracks[tracks['car_or_bus'] == 2]))\n",
    "print(\"number of unique tracks where linha = no_answer: \", len(tracks[tracks['linha'] == 'no_answer']))"
   ]
  },
  {
   "cell_type": "markdown",
   "metadata": {},
   "source": [
    "By looking at these numbers one can see that the tracks dataframe needs some preprocessing. "
   ]
  },
  {
   "cell_type": "markdown",
   "metadata": {},
   "source": [
    "### Trackspoints Data Table -  localization points of each trajectory  \n",
    "- id: unique key to identify each point  \n",
    "- latitude: latitude from where the point is  \n",
    "- longitude: longitude from where the point is  \n",
    "- track_id: identify the trajectory which the point belong  \n",
    "- time: datetime when the point was collected (GMT-3) "
   ]
  },
  {
   "cell_type": "markdown",
   "metadata": {},
   "source": [
    "First 10 entries:"
   ]
  },
  {
   "cell_type": "code",
   "execution_count": 6,
   "metadata": {},
   "outputs": [
    {
     "data": {
      "text/html": [
       "<div>\n",
       "<style>\n",
       "    .dataframe thead tr:only-child th {\n",
       "        text-align: right;\n",
       "    }\n",
       "\n",
       "    .dataframe thead th {\n",
       "        text-align: left;\n",
       "    }\n",
       "\n",
       "    .dataframe tbody tr th {\n",
       "        vertical-align: top;\n",
       "    }\n",
       "</style>\n",
       "<table border=\"1\" class=\"dataframe\">\n",
       "  <thead>\n",
       "    <tr style=\"text-align: right;\">\n",
       "      <th></th>\n",
       "      <th>id</th>\n",
       "      <th>latitude</th>\n",
       "      <th>longitude</th>\n",
       "      <th>track_id</th>\n",
       "      <th>time</th>\n",
       "    </tr>\n",
       "  </thead>\n",
       "  <tbody>\n",
       "    <tr>\n",
       "      <th>0</th>\n",
       "      <td>1</td>\n",
       "      <td>-10.939341</td>\n",
       "      <td>-37.062742</td>\n",
       "      <td>1</td>\n",
       "      <td>2014-09-13 07:24:32</td>\n",
       "    </tr>\n",
       "    <tr>\n",
       "      <th>1</th>\n",
       "      <td>2</td>\n",
       "      <td>-10.939341</td>\n",
       "      <td>-37.062742</td>\n",
       "      <td>1</td>\n",
       "      <td>2014-09-13 07:24:37</td>\n",
       "    </tr>\n",
       "    <tr>\n",
       "      <th>2</th>\n",
       "      <td>3</td>\n",
       "      <td>-10.939324</td>\n",
       "      <td>-37.062765</td>\n",
       "      <td>1</td>\n",
       "      <td>2014-09-13 07:24:42</td>\n",
       "    </tr>\n",
       "    <tr>\n",
       "      <th>3</th>\n",
       "      <td>4</td>\n",
       "      <td>-10.939211</td>\n",
       "      <td>-37.062843</td>\n",
       "      <td>1</td>\n",
       "      <td>2014-09-13 07:24:47</td>\n",
       "    </tr>\n",
       "    <tr>\n",
       "      <th>4</th>\n",
       "      <td>5</td>\n",
       "      <td>-10.938939</td>\n",
       "      <td>-37.062879</td>\n",
       "      <td>1</td>\n",
       "      <td>2014-09-13 07:24:53</td>\n",
       "    </tr>\n",
       "    <tr>\n",
       "      <th>5</th>\n",
       "      <td>6</td>\n",
       "      <td>-10.938544</td>\n",
       "      <td>-37.062839</td>\n",
       "      <td>1</td>\n",
       "      <td>2014-09-13 07:24:59</td>\n",
       "    </tr>\n",
       "    <tr>\n",
       "      <th>6</th>\n",
       "      <td>7</td>\n",
       "      <td>-10.938346</td>\n",
       "      <td>-37.062588</td>\n",
       "      <td>1</td>\n",
       "      <td>2014-09-13 07:25:04</td>\n",
       "    </tr>\n",
       "    <tr>\n",
       "      <th>7</th>\n",
       "      <td>8</td>\n",
       "      <td>-10.938448</td>\n",
       "      <td>-37.062000</td>\n",
       "      <td>1</td>\n",
       "      <td>2014-09-13 07:25:10</td>\n",
       "    </tr>\n",
       "    <tr>\n",
       "      <th>8</th>\n",
       "      <td>9</td>\n",
       "      <td>-10.938666</td>\n",
       "      <td>-37.061499</td>\n",
       "      <td>1</td>\n",
       "      <td>2014-09-13 07:25:15</td>\n",
       "    </tr>\n",
       "    <tr>\n",
       "      <th>9</th>\n",
       "      <td>10</td>\n",
       "      <td>-10.938986</td>\n",
       "      <td>-37.060819</td>\n",
       "      <td>1</td>\n",
       "      <td>2014-09-13 07:25:21</td>\n",
       "    </tr>\n",
       "  </tbody>\n",
       "</table>\n",
       "</div>"
      ],
      "text/plain": [
       "   id   latitude  longitude  track_id                time\n",
       "0   1 -10.939341 -37.062742         1 2014-09-13 07:24:32\n",
       "1   2 -10.939341 -37.062742         1 2014-09-13 07:24:37\n",
       "2   3 -10.939324 -37.062765         1 2014-09-13 07:24:42\n",
       "3   4 -10.939211 -37.062843         1 2014-09-13 07:24:47\n",
       "4   5 -10.938939 -37.062879         1 2014-09-13 07:24:53\n",
       "5   6 -10.938544 -37.062839         1 2014-09-13 07:24:59\n",
       "6   7 -10.938346 -37.062588         1 2014-09-13 07:25:04\n",
       "7   8 -10.938448 -37.062000         1 2014-09-13 07:25:10\n",
       "8   9 -10.938666 -37.061499         1 2014-09-13 07:25:15\n",
       "9  10 -10.938986 -37.060819         1 2014-09-13 07:25:21"
      ]
     },
     "execution_count": 6,
     "metadata": {},
     "output_type": "execute_result"
    }
   ],
   "source": [
    "trackspoints.iloc[0:10,:]"
   ]
  },
  {
   "cell_type": "markdown",
   "metadata": {},
   "source": [
    "Min and Max Values:"
   ]
  },
  {
   "cell_type": "code",
   "execution_count": 7,
   "metadata": {
    "scrolled": true
   },
   "outputs": [
    {
     "name": "stdout",
     "output_type": "stream",
     "text": [
      "Min Values: \n",
      "id                             1\n",
      "latitude                -27.6032\n",
      "longitude               -48.6329\n",
      "track_id                       1\n",
      "time         2014-09-13 07:24:32\n",
      "dtype: object\n",
      "\n",
      "\n",
      "Max Values: \n",
      "id                         19569\n",
      "latitude                -10.2928\n",
      "longitude               -36.4934\n",
      "track_id                   38092\n",
      "time         2016-01-19 13:01:47\n",
      "dtype: object\n",
      "\n",
      "Number of rows: 18107\n"
     ]
    }
   ],
   "source": [
    "print(\"Min Values: \\n\" + str(trackspoints.min()))\n",
    "print(\"\\n\")\n",
    "print(\"Max Values: \\n\" + str(trackspoints.max()))\n",
    "print(\"\\nNumber of rows: %s\" % trackspoints.shape[0])"
   ]
  },
  {
   "cell_type": "markdown",
   "metadata": {},
   "source": [
    "**No duplicate ID's:**"
   ]
  },
  {
   "cell_type": "code",
   "execution_count": 8,
   "metadata": {},
   "outputs": [
    {
     "name": "stdout",
     "output_type": "stream",
     "text": [
      "Trackspoints[\"id\"] rows: 18107\n",
      "Trackspoints[\"id\"] without duplicates rows: 18107\n"
     ]
    }
   ],
   "source": [
    "print(\"Trackspoints[\\\"id\\\"] rows: \" + str(trackspoints[\"id\"].shape[0]))\n",
    "print(\"Trackspoints[\\\"id\\\"] without duplicates rows: \" + str(trackspoints[\"id\"].drop_duplicates().shape[0]))"
   ]
  },
  {
   "cell_type": "markdown",
   "metadata": {},
   "source": [
    "***\n",
    "## Visualization & Exploration\n",
    "### Travel time for each trip in minutes"
   ]
  },
  {
   "cell_type": "code",
   "execution_count": 9,
   "metadata": {
    "collapsed": true
   },
   "outputs": [],
   "source": [
    "from utils.general_utils import calculate_total_trip_time\n",
    "trips_per_track_id = calculate_total_trip_time(trackspoints)"
   ]
  },
  {
   "cell_type": "code",
   "execution_count": 10,
   "metadata": {
    "collapsed": true
   },
   "outputs": [],
   "source": [
    "sorted_trip_times = trips_per_track_id.sort_values(by=\"trip_time_in_minutes\",ascending=False)"
   ]
  },
  {
   "cell_type": "code",
   "execution_count": 11,
   "metadata": {},
   "outputs": [
    {
     "data": {
      "image/png": "[encoded data removed]",
      "text/plain": [
       "<matplotlib.figure.Figure at 0x27bd5b9d898>"
      ]
     },
     "metadata": {},
     "output_type": "display_data"
    }
   ],
   "source": [
    "fig , ax = plt.subplots(figsize=(12,5))\n",
    "ax.bar(range(tracks.shape[0]), sorted_trip_times[\"trip_time_in_minutes\"])\n",
    "ax.set_ylabel('time')\n",
    "ax.set_xlabel('count')\n",
    "ax.set_title(\"Sorted trip time in minutes\")\n",
    "plt.show();"
   ]
  },
  {
   "cell_type": "markdown",
   "metadata": {},
   "source": [
    "We can see that the data set includes a lot of trips with a short time."
   ]
  },
  {
   "cell_type": "markdown",
   "metadata": {},
   "source": [
    "**10 Longest Trips for travel time in minutes**"
   ]
  },
  {
   "cell_type": "code",
   "execution_count": 12,
   "metadata": {},
   "outputs": [
    {
     "data": {
      "text/html": [
       "<div>\n",
       "<style>\n",
       "    .dataframe thead tr:only-child th {\n",
       "        text-align: right;\n",
       "    }\n",
       "\n",
       "    .dataframe thead th {\n",
       "        text-align: left;\n",
       "    }\n",
       "\n",
       "    .dataframe tbody tr th {\n",
       "        vertical-align: top;\n",
       "    }\n",
       "</style>\n",
       "<table border=\"1\" class=\"dataframe\">\n",
       "  <thead>\n",
       "    <tr style=\"text-align: right;\">\n",
       "      <th>track_id</th>\n",
       "      <th>27</th>\n",
       "      <th>26</th>\n",
       "      <th>30</th>\n",
       "      <th>31</th>\n",
       "      <th>37962</th>\n",
       "      <th>38002</th>\n",
       "      <th>38017</th>\n",
       "      <th>41</th>\n",
       "      <th>40</th>\n",
       "      <th>19</th>\n",
       "    </tr>\n",
       "  </thead>\n",
       "  <tbody>\n",
       "    <tr>\n",
       "      <th>trip_time_in_minutes</th>\n",
       "      <td>116.57</td>\n",
       "      <td>116.57</td>\n",
       "      <td>59.67</td>\n",
       "      <td>59.67</td>\n",
       "      <td>52.42</td>\n",
       "      <td>47.93</td>\n",
       "      <td>45.8</td>\n",
       "      <td>39.42</td>\n",
       "      <td>38.25</td>\n",
       "      <td>38.07</td>\n",
       "    </tr>\n",
       "  </tbody>\n",
       "</table>\n",
       "</div>"
      ],
      "text/plain": [
       "track_id               27      26     30     31     37962  38002  38017  \\\n",
       "trip_time_in_minutes  116.57  116.57  59.67  59.67  52.42  47.93   45.8   \n",
       "\n",
       "track_id              41     40     19     \n",
       "trip_time_in_minutes  39.42  38.25  38.07  "
      ]
     },
     "execution_count": 12,
     "metadata": {},
     "output_type": "execute_result"
    }
   ],
   "source": [
    "sorted_trip_times.iloc[0:10,:].transpose()"
   ]
  },
  {
   "cell_type": "code",
   "execution_count": 13,
   "metadata": {},
   "outputs": [
    {
     "data": {
      "text/html": [
       "<div>\n",
       "<style>\n",
       "    .dataframe thead tr:only-child th {\n",
       "        text-align: right;\n",
       "    }\n",
       "\n",
       "    .dataframe thead th {\n",
       "        text-align: left;\n",
       "    }\n",
       "\n",
       "    .dataframe tbody tr th {\n",
       "        vertical-align: top;\n",
       "    }\n",
       "</style>\n",
       "<table border=\"1\" class=\"dataframe\">\n",
       "  <thead>\n",
       "    <tr style=\"text-align: right;\">\n",
       "      <th></th>\n",
       "      <th>count</th>\n",
       "      <th>mean</th>\n",
       "      <th>std</th>\n",
       "      <th>min</th>\n",
       "      <th>25%</th>\n",
       "      <th>50%</th>\n",
       "      <th>75%</th>\n",
       "      <th>max</th>\n",
       "    </tr>\n",
       "  </thead>\n",
       "  <tbody>\n",
       "    <tr>\n",
       "      <th>trip_time_in_minutes</th>\n",
       "      <td>163.0</td>\n",
       "      <td>15.34638</td>\n",
       "      <td>17.133331</td>\n",
       "      <td>0.0</td>\n",
       "      <td>1.84</td>\n",
       "      <td>12.33</td>\n",
       "      <td>23.2</td>\n",
       "      <td>116.57</td>\n",
       "    </tr>\n",
       "  </tbody>\n",
       "</table>\n",
       "</div>"
      ],
      "text/plain": [
       "                      count      mean        std  min   25%    50%   75%  \\\n",
       "trip_time_in_minutes  163.0  15.34638  17.133331  0.0  1.84  12.33  23.2   \n",
       "\n",
       "                         max  \n",
       "trip_time_in_minutes  116.57  "
      ]
     },
     "execution_count": 13,
     "metadata": {},
     "output_type": "execute_result"
    }
   ],
   "source": [
    "trips_per_track_id.describe().transpose()"
   ]
  },
  {
   "cell_type": "markdown",
   "metadata": {},
   "source": [
    "**Note:** Number of rows in both tables are equal"
   ]
  },
  {
   "cell_type": "code",
   "execution_count": 14,
   "metadata": {
    "collapsed": true
   },
   "outputs": [],
   "source": [
    "x = tracks.set_index(keys=\"id\")\n",
    "x = x[\"time\"] * 60"
   ]
  },
  {
   "cell_type": "markdown",
   "metadata": {},
   "source": [
    "Check deviation of trip time in minutes from both tables: tracks[time] - calculated_trip_time "
   ]
  },
  {
   "cell_type": "code",
   "execution_count": 15,
   "metadata": {},
   "outputs": [
    {
     "name": "stdout",
     "output_type": "stream",
     "text": [
      "Maximum Absolute Deviation: 24.3293166667\n"
     ]
    }
   ],
   "source": [
    "deviation = np.abs(trips_per_track_id[\"trip_time_in_minutes\"]) - np.abs(x.iloc[:])\n",
    "absolute_deviation = np.abs(deviation)\n",
    "print(\"Maximum Absolute Deviation: \" + str(max(absolute_deviation)))"
   ]
  },
  {
   "cell_type": "markdown",
   "metadata": {},
   "source": [
    "**Large difference between the calculated trip time and the one stated in the tracks[time] column**"
   ]
  },
  {
   "cell_type": "code",
   "execution_count": 16,
   "metadata": {
    "scrolled": false
   },
   "outputs": [
    {
     "data": {
      "image/png": "[encoded data removed]",
      "text/plain": [
       "<matplotlib.figure.Figure at 0x27bd5b9d0f0>"
      ]
     },
     "metadata": {},
     "output_type": "display_data"
    }
   ],
   "source": [
    "fig , ax = plt.subplots(figsize=(12,5))\n",
    "ax.bar(range(x.shape[0]), absolute_deviation)\n",
    "ax.set_title(\"Absolute deviation of trip time from tracks & trackspoints in minutes\")\n",
    "#ax.set_xlim((min(absolute_deviation), max(absolute_deviation)))\n",
    "threshold = 5\n",
    "plt.plot([threshold for x in range(x.shape[0])], 'k-', lw=1)\n",
    "plt.show();"
   ]
  },
  {
   "cell_type": "code",
   "execution_count": 17,
   "metadata": {},
   "outputs": [
    {
     "name": "stdout",
     "output_type": "stream",
     "text": [
      "There are 12 deviations larger than 5 minutes\n"
     ]
    }
   ],
   "source": [
    "print(\"There are {} deviations larger than {} minutes\".format(len(absolute_deviation[absolute_deviation > 5]),\n",
    "                                                              threshold))"
   ]
  },
  {
   "cell_type": "markdown",
   "metadata": {},
   "source": [
    "**From the 10 longest trips the Nr. 1 & 2, Nr. 3 & 4 have the same trip time**\n",
    "\n",
    "Possibility of duplicate trip recordings"
   ]
  },
  {
   "cell_type": "code",
   "execution_count": 18,
   "metadata": {},
   "outputs": [
    {
     "data": {
      "text/html": [
       "<div>\n",
       "<style>\n",
       "    .dataframe thead tr:only-child th {\n",
       "        text-align: right;\n",
       "    }\n",
       "\n",
       "    .dataframe thead th {\n",
       "        text-align: left;\n",
       "    }\n",
       "\n",
       "    .dataframe tbody tr th {\n",
       "        vertical-align: top;\n",
       "    }\n",
       "</style>\n",
       "<table border=\"1\" class=\"dataframe\">\n",
       "  <thead>\n",
       "    <tr style=\"text-align: right;\">\n",
       "      <th>track_id</th>\n",
       "      <th>27</th>\n",
       "      <th>26</th>\n",
       "      <th>30</th>\n",
       "      <th>31</th>\n",
       "    </tr>\n",
       "  </thead>\n",
       "  <tbody>\n",
       "    <tr>\n",
       "      <th>trip_time_in_minutes</th>\n",
       "      <td>116.57</td>\n",
       "      <td>116.57</td>\n",
       "      <td>59.67</td>\n",
       "      <td>59.67</td>\n",
       "    </tr>\n",
       "  </tbody>\n",
       "</table>\n",
       "</div>"
      ],
      "text/plain": [
       "track_id                  27      26     30     31\n",
       "trip_time_in_minutes  116.57  116.57  59.67  59.67"
      ]
     },
     "execution_count": 18,
     "metadata": {},
     "output_type": "execute_result"
    }
   ],
   "source": [
    "sorted_trip_times.iloc[0:4,:].transpose()"
   ]
  },
  {
   "cell_type": "markdown",
   "metadata": {},
   "source": [
    "Let's check if track recording 26 & 27 are duplicates or if it is just a coincidence that their trip time is the same."
   ]
  },
  {
   "cell_type": "code",
   "execution_count": 19,
   "metadata": {
    "collapsed": true
   },
   "outputs": [],
   "source": [
    "track_26 = trackspoints[trackspoints[\"track_id\"]==26]\n",
    "track_27 = trackspoints[trackspoints[\"track_id\"]==27]\n",
    "track_list = [track_26, track_27]"
   ]
  },
  {
   "cell_type": "markdown",
   "metadata": {},
   "source": [
    "Both trip recordings have the identical plot for time and longitude vs latitude. There is a high chance that these are not the only duplicate values."
   ]
  },
  {
   "cell_type": "code",
   "execution_count": 20,
   "metadata": {},
   "outputs": [
    {
     "data": {
      "image/png": "[encoded data removed]",
      "text/plain": [
       "<matplotlib.figure.Figure at 0x27bd963ff28>"
      ]
     },
     "metadata": {},
     "output_type": "display_data"
    },
    {
     "data": {
      "image/png": "[encoded data removed]",
      "text/plain": [
       "<matplotlib.figure.Figure at 0x27bd92bd7b8>"
      ]
     },
     "metadata": {},
     "output_type": "display_data"
    }
   ],
   "source": [
    "fig1, axes1 = plt.subplots(figsize=(8,4),nrows=1, ncols=2)\n",
    "axes1_flattened = axes1.flatten()\n",
    "\n",
    "for i, ax in enumerate(axes1_flattened):\n",
    "    ax.plot(track_list[i][\"longitude\"], track_list[i][\"latitude\"])\n",
    "    ax.set_xlabel(\"Longitude\")\n",
    "    ax.set_ylabel(\"Latitude\")\n",
    "    track_id = track_list[i][\"track_id\"].iloc[0]\n",
    "    ax.set_title(\"Track Id: {}\".format(track_id))\n",
    "    \n",
    "fig1.tight_layout();\n",
    "\n",
    "fig2, axes2 = plt.subplots(figsize=(8,4),nrows=1, ncols=2)\n",
    "axes2_flattened = axes2.flatten()\n",
    "for i, ax in enumerate(axes2_flattened):\n",
    "    ax.plot(track_list[i][\"time\"])\n",
    "    ax.set_xlabel(\"Recording Steps\")\n",
    "    ax.set_ylabel(\"time\")\n",
    "    track_id = track_list[i][\"track_id\"].iloc[0]\n",
    "    ax.set_title(\"Track Id: {}\".format(track_id))\n",
    "    \n",
    "fig2.tight_layout();"
   ]
  },
  {
   "cell_type": "markdown",
   "metadata": {},
   "source": [
    "In order to check for all duplicate track recordings a more analytical approach is needed. So let's first calculate all possible duplicates and check later whether they are real duplicates or not. The code can be found in [general_utils.py](utils\\general_utils.py):\n"
   ]
  },
  {
   "cell_type": "code",
   "execution_count": 22,
   "metadata": {
    "scrolled": true
   },
   "outputs": [
    {
     "name": "stdout",
     "output_type": "stream",
     "text": [
      "There are 27.0 possible duplicates\n",
      "\n"
     ]
    }
   ],
   "source": [
    "from utils.general_utils import get_duplicate_track_recording_candidates\n",
    "nrofduplicates, duplicate_candidates = get_duplicate_track_recording_candidates(trips_per_track_id)\n",
    "print(\"There are {} possible duplicates\\n\".format(nrofduplicates/2))"
   ]
  },
  {
   "cell_type": "markdown",
   "metadata": {},
   "source": [
    "Now let's check whether these duplicate candidates are really identical in time and gps coordinates.  Lets check how many candidate duplicates track recordings are real duplicates. The code can be found in [general_utils.py](utils\\general_utils.py):"
   ]
  },
  {
   "cell_type": "code",
   "execution_count": 23,
   "metadata": {
    "scrolled": false
   },
   "outputs": [
    {
     "name": "stdout",
     "output_type": "stream",
     "text": [
      "There are 17 real duplicates\n"
     ]
    }
   ],
   "source": [
    "from utils.general_utils import get_real_duplicate_track_recordings\n",
    "\n",
    "duplicates = get_real_duplicate_track_recordings(duplicate_candidates, \n",
    "                                                 trackspoints, verbose = False)\n",
    "print(\"There are {} real duplicates\".format(len(duplicates)))"
   ]
  },
  {
   "cell_type": "markdown",
   "metadata": {},
   "source": [
    "We have the following duplicates:"
   ]
  },
  {
   "cell_type": "code",
   "execution_count": 24,
   "metadata": {},
   "outputs": [
    {
     "name": "stdout",
     "output_type": "stream",
     "text": [
      "Duplicate Track_ids:\n",
      " [37972, 45, 139, 37950, 38021, 141, 137, 21, 32447, 27, 143, 37954, 56, 135, 31, 50, 37997]\n"
     ]
    }
   ],
   "source": [
    "print(\"Duplicate Track_ids:\\n\",[i for i in duplicates])"
   ]
  },
  {
   "cell_type": "markdown",
   "metadata": {},
   "source": [
    "Additionally to the duplicate track recordings we also have trip times which are 0:"
   ]
  },
  {
   "cell_type": "code",
   "execution_count": 25,
   "metadata": {},
   "outputs": [
    {
     "name": "stdout",
     "output_type": "stream",
     "text": [
      "There are 10 track recordings [14, 71, 148, 159, 171, 37982, 37990, 37993, 37998, 38030] have a trip time of 0\n"
     ]
    }
   ],
   "source": [
    "print(\"There are {} track recordings {} have a trip time of 0\".format(len(duplicate_candidates[0.0]),\n",
    "                                                                      duplicate_candidates[0.0]) )"
   ]
  },
  {
   "cell_type": "markdown",
   "metadata": {},
   "source": [
    "***\n",
    "### Histogram Plots\n"
   ]
  },
  {
   "cell_type": "markdown",
   "metadata": {},
   "source": [
    "Histogram Plots for **Tracks Data Table**"
   ]
  },
  {
   "cell_type": "code",
   "execution_count": 26,
   "metadata": {},
   "outputs": [
    {
     "data": {
      "image/png": "[encoded data removed]",
      "text/plain": [
       "<matplotlib.figure.Figure at 0x27bd9882400>"
      ]
     },
     "metadata": {},
     "output_type": "display_data"
    }
   ],
   "source": [
    "fig1, axes1 = plt.subplots(figsize=(12,8),nrows=5, ncols=2)\n",
    "axes1_flattened = axes1.flatten()\n",
    "track_colum_names = np.hstack(tracks.columns)\n",
    "\n",
    "i = 0\n",
    "for ax in axes1_flattened:\n",
    "    if i != tracks.shape[1]-1:\n",
    "        ax.hist(tracks[track_colum_names[i]])\n",
    "        ax.set_title(track_colum_names[i])\n",
    "        ax.set_ylim(0,120)\n",
    "        i = i + 1\n",
    "    else:\n",
    "        ax.hist(tracks[\"linha\"].value_counts())\n",
    "        ax.set_title(track_colum_names[i])\n",
    "        ax.set_ylim(0,120)\n",
    "        i = i + 1\n",
    "fig1.tight_layout();"
   ]
  },
  {
   "cell_type": "code",
   "execution_count": 27,
   "metadata": {},
   "outputs": [
    {
     "data": {
      "image/png": "[encoded data removed]",
      "text/plain": [
       "<matplotlib.figure.Figure at 0x27bd989d9e8>"
      ]
     },
     "metadata": {},
     "output_type": "display_data"
    },
    {
     "data": {
      "image/png": "[encoded data removed]",
      "text/plain": [
       "<matplotlib.figure.Figure at 0x27bdaac28d0>"
      ]
     },
     "metadata": {},
     "output_type": "display_data"
    },
    {
     "data": {
      "image/png": "[encoded data removed]",
      "text/plain": [
       "<matplotlib.figure.Figure at 0x27bdabeae48>"
      ]
     },
     "metadata": {},
     "output_type": "display_data"
    }
   ],
   "source": [
    "import matplotlib.mlab as mlab\n",
    "\n",
    "def generate_hist_density_plot(data, label):\n",
    "    n, bins, patches = plt.hist(data, 20, normed=1, histtype='bar',facecolor='b', alpha=0.65)\n",
    "    mean = np.mean(data)\n",
    "    std = np.std(data)\n",
    "    \n",
    "    # add a 'best fit' line\n",
    "    y = mlab.normpdf( bins, mean, std)\n",
    "    l = plt.plot(bins, y, 'r--', linewidth=1)\n",
    "\n",
    "    plt.ylabel('Probability')\n",
    "    plt.title(label)\n",
    "    plt.xticks(np.arange(0,max(data),10))\n",
    "    plt.grid(True)\n",
    "    return plt\n",
    "\n",
    "generate_hist_density_plot(tracks['speed'], 'Speed  in km/h').show()\n",
    "generate_hist_density_plot(tracks['time']*60, 'Time in min').show()\n",
    "generate_hist_density_plot(tracks['distance'], 'Distance in km').show()\n",
    "\n"
   ]
  },
  {
   "cell_type": "markdown",
   "metadata": {},
   "source": [
    "These plots show histograms for the 3 continuous variables. Again, we can see that there are many values close to zero. the red line indicates the proability distribution and the blue bars the number of objects in the bin"
   ]
  },
  {
   "cell_type": "markdown",
   "metadata": {},
   "source": [
    "Detailed plot for string data in **linha** column:"
   ]
  },
  {
   "cell_type": "code",
   "execution_count": 28,
   "metadata": {
    "scrolled": true
   },
   "outputs": [
    {
     "data": {
      "image/png": "[encoded data removed]",
      "text/plain": [
       "<matplotlib.figure.Figure at 0x27bd9133ef0>"
      ]
     },
     "metadata": {},
     "output_type": "display_data"
    }
   ],
   "source": [
    "tracks[\"linha\"].value_counts().plot(kind='bar',figsize=(12,4));"
   ]
  },
  {
   "cell_type": "markdown",
   "metadata": {},
   "source": [
    "From this plot we can see how many people took a specific means of transport. out of 163 tracks only half of them gave an answer other than 'no_answer'"
   ]
  },
  {
   "cell_type": "code",
   "execution_count": 29,
   "metadata": {},
   "outputs": [
    {
     "data": {
      "image/png": "[encoded data removed]",
      "text/plain": [
       "<matplotlib.figure.Figure at 0x27bdafad5c0>"
      ]
     },
     "metadata": {},
     "output_type": "display_data"
    }
   ],
   "source": [
    "#get subframe\n",
    "tracks_cor = tracks[['speed','time','distance','rating']]\n",
    "\n",
    "sns.pairplot(tracks_cor);\n",
    "#.show()\n",
    "#sns.show()"
   ]
  },
  {
   "cell_type": "markdown",
   "metadata": {},
   "source": [
    "This correlation plot for the three continuous variables and one categorical variable. One can see that there is a positive correlation between all three of these variables. Also there are several outliers with really high values in comparison to the majority of data points. maybe by removing these outliers we can see better patterns, as the data will not be as much squished to the coordinate center."
   ]
  },
  {
   "cell_type": "code",
   "execution_count": 30,
   "metadata": {
    "collapsed": true
   },
   "outputs": [],
   "source": [
    "import gmplot\n",
    "\n",
    "colors = 'red','blue','green','yellow','brown','orange','pink','purple','springgreen','firebrick'\n",
    "\n",
    "def plottracks(track_id, color):\n",
    "    latitudes = trackspoints[trackspoints['track_id'].isin([track_id])]['latitude']\n",
    "    longitudes = trackspoints[trackspoints['track_id'].isin([track_id])]['longitude']\n",
    "    gmap.plot(latitudes, longitudes, color, edge_width=5)\n",
    "\n",
    "init_lat = trackspoints[trackspoints['track_id'].isin([1])]['latitude'][0]    \n",
    "init_long = longitudes = trackspoints[trackspoints['track_id'].isin([1])]['longitude'][0]\n",
    "\n",
    "gmap = gmplot.GoogleMapPlotter(init_lat, init_long, 18)\n",
    "for track_id in range(1,10):\n",
    "    plottracks(track_id, colors[track_id-1])\n",
    "gmap.draw(os.path.join(\"html_visualisations\",\"map10.html\"))    \n",
    "\n"
   ]
  },
  {
   "cell_type": "code",
   "execution_count": 31,
   "metadata": {
    "collapsed": true
   },
   "outputs": [],
   "source": [
    "init_lat = trackspoints[trackspoints['track_id'].isin([1])]['latitude'][0]    \n",
    "init_long = longitudes = trackspoints[trackspoints['track_id'].isin([1])]['longitude'][0]\n",
    "\n",
    "heat_lats = trackspoints['latitude']\n",
    "heat_lngs = trackspoints['longitude']\n",
    "gmap = gmplot.GoogleMapPlotter(init_lat, init_long, 18)\n",
    "gmap.heatmap(heat_lats, heat_lngs)\n",
    "gmap.draw(os.path.join(\"html_visualisations\",\"mapHeat.html\"))"
   ]
  },
  {
   "cell_type": "code",
   "execution_count": 32,
   "metadata": {
    "collapsed": true
   },
   "outputs": [],
   "source": [
    "# plot duplicate\n",
    "track_points_duplicate = trackspoints[trackspoints[\"track_id\"] == 51]\n",
    "# histograms\n",
    "\n",
    "init_lat = track_points_duplicate[\"latitude\"].iloc[0]\n",
    "init_long = track_points_duplicate[\"longitude\"].iloc[0]\n",
    "\n",
    "gmas = gmplot.GoogleMapPlotter(init_lat, init_long, 18)\n",
    "gmas.plot(track_points_duplicate[\"latitude\"].iloc[1:], track_points_duplicate[\"longitude\"].iloc[1:], edge_width=5)\n",
    "gmas.draw(os.path.join(\"html_visualisations\",\"time_less_min_t51.html\"))"
   ]
  },
  {
   "cell_type": "code",
   "execution_count": 33,
   "metadata": {
    "collapsed": true
   },
   "outputs": [],
   "source": [
    "import datetime\n",
    "from utils.general_utils import find_largest_difference\n",
    "diffs = pd.DataFrame(columns=[\"track_id\",\"start_id\",\"stop_id\",\"diff\"])\n",
    "\n",
    "max_id = trackspoints.loc[trackspoints[\"track_id\"].idxmax()][\"track_id\"]\n",
    "\n",
    "for id in range(1,max_id):\n",
    "    #print(id)\n",
    "    df_helper = trackspoints[trackspoints[\"track_id\"] == id]\n",
    "    if len(df_helper) != 0:\n",
    "        diffs.loc[id] = find_largest_difference(df_helper)"
   ]
  },
  {
   "cell_type": "code",
   "execution_count": 34,
   "metadata": {},
   "outputs": [
    {
     "data": {
      "text/plain": [
       "track_id                 25\n",
       "start_id                  8\n",
       "stop_id                   9\n",
       "diff        0 days 00:22:48\n",
       "Name: 25, dtype: object"
      ]
     },
     "execution_count": 34,
     "metadata": {},
     "output_type": "execute_result"
    }
   ],
   "source": [
    "#track_points_duplicate.iloc[0][\"track_id\"]\n",
    "diffs.loc[diffs[\"diff\"].idxmax()]"
   ]
  },
  {
   "cell_type": "code",
   "execution_count": 35,
   "metadata": {},
   "outputs": [
    {
     "data": {
      "text/html": [
       "<div>\n",
       "<style>\n",
       "    .dataframe thead tr:only-child th {\n",
       "        text-align: right;\n",
       "    }\n",
       "\n",
       "    .dataframe thead th {\n",
       "        text-align: left;\n",
       "    }\n",
       "\n",
       "    .dataframe tbody tr th {\n",
       "        vertical-align: top;\n",
       "    }\n",
       "</style>\n",
       "<table border=\"1\" class=\"dataframe\">\n",
       "  <thead>\n",
       "    <tr style=\"text-align: right;\">\n",
       "      <th></th>\n",
       "      <th>track_id</th>\n",
       "      <th>start_id</th>\n",
       "      <th>stop_id</th>\n",
       "      <th>diff</th>\n",
       "    </tr>\n",
       "  </thead>\n",
       "  <tbody>\n",
       "    <tr>\n",
       "      <th>25</th>\n",
       "      <td>25</td>\n",
       "      <td>8</td>\n",
       "      <td>9</td>\n",
       "      <td>00:22:48</td>\n",
       "    </tr>\n",
       "    <tr>\n",
       "      <th>37961</th>\n",
       "      <td>37961</td>\n",
       "      <td>3</td>\n",
       "      <td>4</td>\n",
       "      <td>00:20:27</td>\n",
       "    </tr>\n",
       "    <tr>\n",
       "      <th>19</th>\n",
       "      <td>19</td>\n",
       "      <td>26</td>\n",
       "      <td>27</td>\n",
       "      <td>00:18:17</td>\n",
       "    </tr>\n",
       "    <tr>\n",
       "      <th>40</th>\n",
       "      <td>40</td>\n",
       "      <td>106</td>\n",
       "      <td>107</td>\n",
       "      <td>00:10:26</td>\n",
       "    </tr>\n",
       "    <tr>\n",
       "      <th>39</th>\n",
       "      <td>39</td>\n",
       "      <td>106</td>\n",
       "      <td>107</td>\n",
       "      <td>00:10:26</td>\n",
       "    </tr>\n",
       "    <tr>\n",
       "      <th>27</th>\n",
       "      <td>27</td>\n",
       "      <td>246</td>\n",
       "      <td>247</td>\n",
       "      <td>00:09:03</td>\n",
       "    </tr>\n",
       "    <tr>\n",
       "      <th>26</th>\n",
       "      <td>26</td>\n",
       "      <td>246</td>\n",
       "      <td>247</td>\n",
       "      <td>00:09:03</td>\n",
       "    </tr>\n",
       "    <tr>\n",
       "      <th>17</th>\n",
       "      <td>17</td>\n",
       "      <td>141</td>\n",
       "      <td>142</td>\n",
       "      <td>00:05:22</td>\n",
       "    </tr>\n",
       "    <tr>\n",
       "      <th>37965</th>\n",
       "      <td>37965</td>\n",
       "      <td>21</td>\n",
       "      <td>22</td>\n",
       "      <td>00:04:55</td>\n",
       "    </tr>\n",
       "    <tr>\n",
       "      <th>24</th>\n",
       "      <td>24</td>\n",
       "      <td>47</td>\n",
       "      <td>48</td>\n",
       "      <td>00:03:58</td>\n",
       "    </tr>\n",
       "  </tbody>\n",
       "</table>\n",
       "</div>"
      ],
      "text/plain": [
       "      track_id start_id stop_id     diff\n",
       "25          25        8       9 00:22:48\n",
       "37961    37961        3       4 00:20:27\n",
       "19          19       26      27 00:18:17\n",
       "40          40      106     107 00:10:26\n",
       "39          39      106     107 00:10:26\n",
       "27          27      246     247 00:09:03\n",
       "26          26      246     247 00:09:03\n",
       "17          17      141     142 00:05:22\n",
       "37965    37965       21      22 00:04:55\n",
       "24          24       47      48 00:03:58"
      ]
     },
     "execution_count": 35,
     "metadata": {},
     "output_type": "execute_result"
    }
   ],
   "source": [
    "# 20 tracks with the biggest time difference between two gps measurements\n",
    "diffs.sort_values(by = ['diff'], ascending = 0).head(10)"
   ]
  },
  {
   "cell_type": "markdown",
   "metadata": {},
   "source": [
    "The list above shows the 10 tracks with their single biggest time differences between two consecutive measurements. The biggest time difference is over 22 minutes. "
   ]
  },
  {
   "cell_type": "markdown",
   "metadata": {},
   "source": [
    "The file \"longest_time_diff.html\" (track 25) plots the whole track onto a map. One can cleary see a straight line ranging over half of the city. By zooming in on the endpoints of that line we can see that both startpoint and endpoint of the line are next to a transportation terminal. This leads to the suggestions that the huge time difference is due to the candidate taking the underground. Therefore we have to consider that we have to deal with distorted data."
   ]
  },
  {
   "cell_type": "markdown",
   "metadata": {},
   "source": [
    "On the contrast the file \"longest_time_diff_3.html\" which displays the third biggest time difference between two measurements (track 19) does seem to correctly follow the street without any straight lines indicating a sudden and massive location change. For this file the difference which spans over 18 minutes occurs somewhere along the way but we cannot see any apparent reason why this happened."
   ]
  },
  {
   "cell_type": "markdown",
   "metadata": {},
   "source": [
    "The following table shows the track with the lowest average speed at about 0.009 km/h"
   ]
  },
  {
   "cell_type": "code",
   "execution_count": 36,
   "metadata": {},
   "outputs": [
    {
     "data": {
      "text/html": [
       "<div>\n",
       "<style>\n",
       "    .dataframe thead tr:only-child th {\n",
       "        text-align: right;\n",
       "    }\n",
       "\n",
       "    .dataframe thead th {\n",
       "        text-align: left;\n",
       "    }\n",
       "\n",
       "    .dataframe tbody tr th {\n",
       "        vertical-align: top;\n",
       "    }\n",
       "</style>\n",
       "<table border=\"1\" class=\"dataframe\">\n",
       "  <thead>\n",
       "    <tr style=\"text-align: right;\">\n",
       "      <th></th>\n",
       "      <th>id</th>\n",
       "      <th>id_android</th>\n",
       "      <th>speed</th>\n",
       "      <th>time</th>\n",
       "      <th>distance</th>\n",
       "      <th>rating</th>\n",
       "      <th>rating_bus</th>\n",
       "      <th>rating_weather</th>\n",
       "      <th>car_or_bus</th>\n",
       "      <th>linha</th>\n",
       "    </tr>\n",
       "  </thead>\n",
       "  <tbody>\n",
       "    <tr>\n",
       "      <th>112</th>\n",
       "      <td>37967</td>\n",
       "      <td>1</td>\n",
       "      <td>0.009779</td>\n",
       "      <td>0.306768</td>\n",
       "      <td>0.003</td>\n",
       "      <td>1</td>\n",
       "      <td>1</td>\n",
       "      <td>1</td>\n",
       "      <td>2</td>\n",
       "      <td>040 - MARCOS FREIRE II DIA</td>\n",
       "    </tr>\n",
       "  </tbody>\n",
       "</table>\n",
       "</div>"
      ],
      "text/plain": [
       "        id  id_android     speed      time  distance  rating  rating_bus  \\\n",
       "112  37967           1  0.009779  0.306768     0.003       1           1   \n",
       "\n",
       "     rating_weather  car_or_bus                       linha  \n",
       "112               1           2  040 - MARCOS FREIRE II DIA  "
      ]
     },
     "execution_count": 36,
     "metadata": {},
     "output_type": "execute_result"
    }
   ],
   "source": [
    "tracks[tracks['speed'] == min(tracks['speed'])]"
   ]
  },
  {
   "cell_type": "markdown",
   "metadata": {},
   "source": [
    "Further investigation of this track plotted on a map (\"lowest_avg_speed.html\") shows that the individual only moved a couple of meters in a building. The interesting point about this is that the person indicated that a bus was taken as well as which line exactly."
   ]
  },
  {
   "cell_type": "code",
   "execution_count": 37,
   "metadata": {},
   "outputs": [
    {
     "data": {
      "text/html": [
       "<div>\n",
       "<style>\n",
       "    .dataframe thead tr:only-child th {\n",
       "        text-align: right;\n",
       "    }\n",
       "\n",
       "    .dataframe thead th {\n",
       "        text-align: left;\n",
       "    }\n",
       "\n",
       "    .dataframe tbody tr th {\n",
       "        vertical-align: top;\n",
       "    }\n",
       "</style>\n",
       "<table border=\"1\" class=\"dataframe\">\n",
       "  <thead>\n",
       "    <tr style=\"text-align: right;\">\n",
       "      <th></th>\n",
       "      <th>id</th>\n",
       "      <th>id_android</th>\n",
       "      <th>speed</th>\n",
       "      <th>time</th>\n",
       "      <th>distance</th>\n",
       "      <th>rating</th>\n",
       "      <th>rating_bus</th>\n",
       "      <th>rating_weather</th>\n",
       "      <th>car_or_bus</th>\n",
       "      <th>linha</th>\n",
       "    </tr>\n",
       "  </thead>\n",
       "  <tbody>\n",
       "    <tr>\n",
       "      <th>43</th>\n",
       "      <td>51</td>\n",
       "      <td>2</td>\n",
       "      <td>72.926755</td>\n",
       "      <td>0.009064</td>\n",
       "      <td>0.661</td>\n",
       "      <td>1</td>\n",
       "      <td>0</td>\n",
       "      <td>0</td>\n",
       "      <td>2</td>\n",
       "      <td>no_answer</td>\n",
       "    </tr>\n",
       "  </tbody>\n",
       "</table>\n",
       "</div>"
      ],
      "text/plain": [
       "    id  id_android      speed      time  distance  rating  rating_bus  \\\n",
       "43  51           2  72.926755  0.009064     0.661       1           0   \n",
       "\n",
       "    rating_weather  car_or_bus      linha  \n",
       "43               0           2  no_answer  "
      ]
     },
     "execution_count": 37,
     "metadata": {},
     "output_type": "execute_result"
    }
   ],
   "source": [
    "tracks[tracks['id'] == 51]"
   ]
  },
  {
   "cell_type": "markdown",
   "metadata": {},
   "source": [
    "Another discovery is seen in \"time_less_min_t51.html\". This track was recorded for less than a minute but the average speed is recorded at almost 73 km/h. By looking at the map we can see that the trip seems to be have recorded on the middle of a highway. This leads to the conclusion that not the whole trip was recorded but only a small fraction of it."
   ]
  },
  {
   "cell_type": "markdown",
   "metadata": {},
   "source": [
    "***\n",
    "# Existing Issues\n",
    "- Large discrepancy between travel time per ``track_id`` stated in the **tracks data table** and the one calculated from the **trackspoints data table**\n",
    "- Inconsistent tracks\n",
    "- Missing or distorted values\n",
    "\n",
    "# Potential Preprocessing Tasks\n",
    "- Remove duplicate recordings in track_ids\n",
    "- Remove track recordings with 0 duration\n",
    "- Drop ``linha`` column due to high number of nan values\n",
    "- Split tracks where a metro has been taken into two sub tracks\n",
    "- Remove tracks which seem to be recorded inside a house"
   ]
  }
 ],
 "metadata": {
  "kernelspec": {
   "display_name": "Python [conda env:Tensorflow]",
   "language": "python",
   "name": "conda-env-Tensorflow-py"
  },
  "language_info": {
   "codemirror_mode": {
    "name": "ipython",
    "version": 3
   },
   "file_extension": ".py",
   "mimetype": "text/x-python",
   "name": "python",
   "nbconvert_exporter": "python",
   "pygments_lexer": "ipython3",
   "version": "3.5.4"
  }
 },
 "nbformat": 4,
 "nbformat_minor": 2
}
