{
 "cells": [
  {
   "cell_type": "raw",
   "metadata": {},
   "source": [
    "<!-- Show/hide code in rendered HTML see \n",
    "http://chris-said.io/2016/02/13/how-to-make-polished-jupyter-presentations-with-optional-code-visibility/ -->\n",
    "<script>\n",
    "  function code_toggle() {\n",
    "    if (code_shown){\n",
    "      $('div.input').hide('500');\n",
    "      $('#toggleButton').val('Show Code')\n",
    "    } else {\n",
    "      $('div.input').show('500');\n",
    "      $('#toggleButton').val('Hide Code')\n",
    "    }\n",
    "    code_shown = !code_shown\n",
    "  }\n",
    "\n",
    "  $( document ).ready(function(){\n",
    "    code_shown=false;\n",
    "    $('div.input').hide()\n",
    "  });\n",
    "</script>\n",
    "<form action=\"javascript:code_toggle()\"><input type=\"submit\" id=\"toggleButton\" value=\"Show Code\"></form>"
   ]
  },
  {
   "cell_type": "code",
   "execution_count": 1,
   "metadata": {},
   "outputs": [],
   "source": [
    "%load_ext autoreload\n",
    "%autoreload 2\n",
    "%matplotlib inline\n",
    "\n",
    "import os\n",
    "import pandas as pd\n",
    "import numpy as np\n",
    "from sklearn import preprocessing\n",
    "\n",
    "#Visualisation Libraries\n",
    "import matplotlib as mpl\n",
    "import matplotlib.pyplot as plt\n",
    "mpl.style.use('ggplot')\n",
    "import seaborn as sns\n",
    "\n",
    "# Self written packages\n",
    "from data.make_data import DataSet"
   ]
  },
  {
   "cell_type": "code",
   "execution_count": 2,
   "metadata": {},
   "outputs": [
    {
     "name": "stdout",
     "output_type": "stream",
     "text": [
      "Read  C:\\Users\\Lukas\\Dropbox\\WS2017_18\\Gruppenarbeiten\\BI2\\bi2_project\\data\\go_track_tracks.csv\n",
      "Read  C:\\Users\\Lukas\\Dropbox\\WS2017_18\\Gruppenarbeiten\\BI2\\bi2_project\\data\\go_track_trackspoints.csv\n"
     ]
    }
   ],
   "source": [
    "#load data\n",
    "parentdir = os.path.dirname(os.getcwd())\n",
    "datadir = os.path.join(parentdir, \"data\")\n",
    "dataset = DataSet(datadir,file_ending=\".csv\")\n",
    "tracks, trackspoints = dataset.get_data()\n",
    "tracks = dataset.preprocess_tracks_data(tracks)\n",
    "trackspoints = dataset.preprocess_trackspoint_data(trackspoints)"
   ]
  },
  {
   "cell_type": "markdown",
   "metadata": {},
   "source": [
    "## Data Set Description\n",
    "The dataset is composed by two tables. The first table **tracks** presents general \n",
    "attributes and each instance has one trajectory that is represented by the table  \n",
    "**trackspoints**. "
   ]
  },
  {
   "cell_type": "markdown",
   "metadata": {},
   "source": [
    "### Tracks Data Table - a list of trajectories  \n",
    "- id_android - it represents the device used to capture the instance;  \n",
    "- speed - it represents the average speed (Km/H)  \n",
    "- time - it represents the time in hours\n",
    "- distance - it represent the total distance (Km)  \n",
    "- rating - it is an evaluation parameter. Evaluation the traffic is a way to verify the volunteers \n",
    "- perception about the traffic during the travel, in other words,  \n",
    " if volunteers move to some place and face traffic jam, maybe they will    evaluate 'bad'. (3-good, 2-normal, 1-bad).  \n",
    "- rating_bus - it is other evaluation parameter. (1 - The amount of people inside the bus is little, 2 - The bus is not crowded, 3- The bus is crowded.  \n",
    "- rating_weather - it is another evaluation parameter. ( 2- sunny, 1- raining).  \n",
    "- car_or_bus - (1 - car, 2-bus)  \n",
    "- linha - information about the bus that does the pathway  "
   ]
  },
  {
   "cell_type": "markdown",
   "metadata": {},
   "source": [
    "First 10 entries:"
   ]
  },
  {
   "cell_type": "code",
   "execution_count": 3,
   "metadata": {
    "scrolled": true
   },
   "outputs": [
    {
     "data": {
      "text/html": [
       "<div>\n",
       "<style>\n",
       "    .dataframe thead tr:only-child th {\n",
       "        text-align: right;\n",
       "    }\n",
       "\n",
       "    .dataframe thead th {\n",
       "        text-align: left;\n",
       "    }\n",
       "\n",
       "    .dataframe tbody tr th {\n",
       "        vertical-align: top;\n",
       "    }\n",
       "</style>\n",
       "<table border=\"1\" class=\"dataframe\">\n",
       "  <thead>\n",
       "    <tr style=\"text-align: right;\">\n",
       "      <th></th>\n",
       "      <th>id</th>\n",
       "      <th>id_android</th>\n",
       "      <th>speed</th>\n",
       "      <th>time</th>\n",
       "      <th>distance</th>\n",
       "      <th>rating</th>\n",
       "      <th>rating_bus</th>\n",
       "      <th>rating_weather</th>\n",
       "      <th>car_or_bus</th>\n",
       "      <th>linha</th>\n",
       "    </tr>\n",
       "  </thead>\n",
       "  <tbody>\n",
       "    <tr>\n",
       "      <th>0</th>\n",
       "      <td>1</td>\n",
       "      <td>0</td>\n",
       "      <td>19.210586</td>\n",
       "      <td>0.138049</td>\n",
       "      <td>2.652</td>\n",
       "      <td>3</td>\n",
       "      <td>0</td>\n",
       "      <td>0</td>\n",
       "      <td>1</td>\n",
       "      <td>no_answer</td>\n",
       "    </tr>\n",
       "    <tr>\n",
       "      <th>1</th>\n",
       "      <td>2</td>\n",
       "      <td>0</td>\n",
       "      <td>30.848229</td>\n",
       "      <td>0.171485</td>\n",
       "      <td>5.290</td>\n",
       "      <td>3</td>\n",
       "      <td>0</td>\n",
       "      <td>0</td>\n",
       "      <td>1</td>\n",
       "      <td>no_answer</td>\n",
       "    </tr>\n",
       "    <tr>\n",
       "      <th>2</th>\n",
       "      <td>3</td>\n",
       "      <td>1</td>\n",
       "      <td>13.560101</td>\n",
       "      <td>0.067699</td>\n",
       "      <td>0.918</td>\n",
       "      <td>3</td>\n",
       "      <td>0</td>\n",
       "      <td>0</td>\n",
       "      <td>2</td>\n",
       "      <td>no_answer</td>\n",
       "    </tr>\n",
       "    <tr>\n",
       "      <th>3</th>\n",
       "      <td>4</td>\n",
       "      <td>1</td>\n",
       "      <td>19.766679</td>\n",
       "      <td>0.389544</td>\n",
       "      <td>7.700</td>\n",
       "      <td>3</td>\n",
       "      <td>0</td>\n",
       "      <td>0</td>\n",
       "      <td>2</td>\n",
       "      <td>no_answer</td>\n",
       "    </tr>\n",
       "    <tr>\n",
       "      <th>4</th>\n",
       "      <td>8</td>\n",
       "      <td>0</td>\n",
       "      <td>25.807401</td>\n",
       "      <td>0.154801</td>\n",
       "      <td>3.995</td>\n",
       "      <td>2</td>\n",
       "      <td>0</td>\n",
       "      <td>0</td>\n",
       "      <td>1</td>\n",
       "      <td>no_answer</td>\n",
       "    </tr>\n",
       "    <tr>\n",
       "      <th>5</th>\n",
       "      <td>10</td>\n",
       "      <td>2</td>\n",
       "      <td>1.346913</td>\n",
       "      <td>0.006682</td>\n",
       "      <td>0.009</td>\n",
       "      <td>2</td>\n",
       "      <td>0</td>\n",
       "      <td>0</td>\n",
       "      <td>1</td>\n",
       "      <td>no_answer</td>\n",
       "    </tr>\n",
       "    <tr>\n",
       "      <th>6</th>\n",
       "      <td>11</td>\n",
       "      <td>3</td>\n",
       "      <td>36.850787</td>\n",
       "      <td>0.228001</td>\n",
       "      <td>8.402</td>\n",
       "      <td>3</td>\n",
       "      <td>0</td>\n",
       "      <td>0</td>\n",
       "      <td>1</td>\n",
       "      <td>no_answer</td>\n",
       "    </tr>\n",
       "    <tr>\n",
       "      <th>7</th>\n",
       "      <td>12</td>\n",
       "      <td>1</td>\n",
       "      <td>17.405131</td>\n",
       "      <td>0.038782</td>\n",
       "      <td>0.675</td>\n",
       "      <td>3</td>\n",
       "      <td>0</td>\n",
       "      <td>0</td>\n",
       "      <td>2</td>\n",
       "      <td>no_answer</td>\n",
       "    </tr>\n",
       "    <tr>\n",
       "      <th>8</th>\n",
       "      <td>13</td>\n",
       "      <td>1</td>\n",
       "      <td>15.395436</td>\n",
       "      <td>0.526844</td>\n",
       "      <td>8.111</td>\n",
       "      <td>3</td>\n",
       "      <td>0</td>\n",
       "      <td>0</td>\n",
       "      <td>2</td>\n",
       "      <td>no_answer</td>\n",
       "    </tr>\n",
       "    <tr>\n",
       "      <th>9</th>\n",
       "      <td>14</td>\n",
       "      <td>1</td>\n",
       "      <td>8.902729</td>\n",
       "      <td>0.003033</td>\n",
       "      <td>0.027</td>\n",
       "      <td>2</td>\n",
       "      <td>0</td>\n",
       "      <td>0</td>\n",
       "      <td>2</td>\n",
       "      <td>no_answer</td>\n",
       "    </tr>\n",
       "  </tbody>\n",
       "</table>\n",
       "</div>"
      ],
      "text/plain": [
       "   id  id_android      speed      time  distance  rating  rating_bus  \\\n",
       "0   1           0  19.210586  0.138049     2.652       3           0   \n",
       "1   2           0  30.848229  0.171485     5.290       3           0   \n",
       "2   3           1  13.560101  0.067699     0.918       3           0   \n",
       "3   4           1  19.766679  0.389544     7.700       3           0   \n",
       "4   8           0  25.807401  0.154801     3.995       2           0   \n",
       "5  10           2   1.346913  0.006682     0.009       2           0   \n",
       "6  11           3  36.850787  0.228001     8.402       3           0   \n",
       "7  12           1  17.405131  0.038782     0.675       3           0   \n",
       "8  13           1  15.395436  0.526844     8.111       3           0   \n",
       "9  14           1   8.902729  0.003033     0.027       2           0   \n",
       "\n",
       "   rating_weather  car_or_bus      linha  \n",
       "0               0           1  no_answer  \n",
       "1               0           1  no_answer  \n",
       "2               0           2  no_answer  \n",
       "3               0           2  no_answer  \n",
       "4               0           1  no_answer  \n",
       "5               0           1  no_answer  \n",
       "6               0           1  no_answer  \n",
       "7               0           2  no_answer  \n",
       "8               0           2  no_answer  \n",
       "9               0           2  no_answer  "
      ]
     },
     "execution_count": 3,
     "metadata": {},
     "output_type": "execute_result"
    }
   ],
   "source": [
    "tracks.iloc[0:10,:]"
   ]
  },
  {
   "cell_type": "markdown",
   "metadata": {},
   "source": [
    "Summary Statistics:"
   ]
  },
  {
   "cell_type": "code",
   "execution_count": 4,
   "metadata": {},
   "outputs": [
    {
     "data": {
      "text/html": [
       "<div>\n",
       "<style>\n",
       "    .dataframe thead tr:only-child th {\n",
       "        text-align: right;\n",
       "    }\n",
       "\n",
       "    .dataframe thead th {\n",
       "        text-align: left;\n",
       "    }\n",
       "\n",
       "    .dataframe tbody tr th {\n",
       "        vertical-align: top;\n",
       "    }\n",
       "</style>\n",
       "<table border=\"1\" class=\"dataframe\">\n",
       "  <thead>\n",
       "    <tr style=\"text-align: right;\">\n",
       "      <th></th>\n",
       "      <th>count</th>\n",
       "      <th>mean</th>\n",
       "      <th>std</th>\n",
       "      <th>min</th>\n",
       "      <th>25%</th>\n",
       "      <th>50%</th>\n",
       "      <th>75%</th>\n",
       "      <th>max</th>\n",
       "    </tr>\n",
       "  </thead>\n",
       "  <tbody>\n",
       "    <tr>\n",
       "      <th>id</th>\n",
       "      <td>163.0</td>\n",
       "      <td>15607.650307</td>\n",
       "      <td>18644.257138</td>\n",
       "      <td>1.000000</td>\n",
       "      <td>48.500000</td>\n",
       "      <td>158.000000</td>\n",
       "      <td>37991.000000</td>\n",
       "      <td>38092.000000</td>\n",
       "    </tr>\n",
       "    <tr>\n",
       "      <th>id_android</th>\n",
       "      <td>163.0</td>\n",
       "      <td>7.386503</td>\n",
       "      <td>7.348742</td>\n",
       "      <td>0.000000</td>\n",
       "      <td>1.000000</td>\n",
       "      <td>4.000000</td>\n",
       "      <td>10.000000</td>\n",
       "      <td>27.000000</td>\n",
       "    </tr>\n",
       "    <tr>\n",
       "      <th>speed</th>\n",
       "      <td>163.0</td>\n",
       "      <td>16.704738</td>\n",
       "      <td>16.016168</td>\n",
       "      <td>0.009779</td>\n",
       "      <td>1.591016</td>\n",
       "      <td>16.685368</td>\n",
       "      <td>23.915760</td>\n",
       "      <td>96.206029</td>\n",
       "    </tr>\n",
       "    <tr>\n",
       "      <th>time</th>\n",
       "      <td>163.0</td>\n",
       "      <td>0.264272</td>\n",
       "      <td>0.292731</td>\n",
       "      <td>0.002175</td>\n",
       "      <td>0.035978</td>\n",
       "      <td>0.214466</td>\n",
       "      <td>0.390572</td>\n",
       "      <td>1.942948</td>\n",
       "    </tr>\n",
       "    <tr>\n",
       "      <th>distance</th>\n",
       "      <td>163.0</td>\n",
       "      <td>5.302411</td>\n",
       "      <td>7.639011</td>\n",
       "      <td>0.001000</td>\n",
       "      <td>0.034500</td>\n",
       "      <td>3.995000</td>\n",
       "      <td>7.333000</td>\n",
       "      <td>55.770000</td>\n",
       "    </tr>\n",
       "    <tr>\n",
       "      <th>rating</th>\n",
       "      <td>163.0</td>\n",
       "      <td>2.515337</td>\n",
       "      <td>0.679105</td>\n",
       "      <td>1.000000</td>\n",
       "      <td>2.000000</td>\n",
       "      <td>3.000000</td>\n",
       "      <td>3.000000</td>\n",
       "      <td>3.000000</td>\n",
       "    </tr>\n",
       "    <tr>\n",
       "      <th>rating_bus</th>\n",
       "      <td>163.0</td>\n",
       "      <td>0.386503</td>\n",
       "      <td>0.687859</td>\n",
       "      <td>0.000000</td>\n",
       "      <td>0.000000</td>\n",
       "      <td>0.000000</td>\n",
       "      <td>1.000000</td>\n",
       "      <td>3.000000</td>\n",
       "    </tr>\n",
       "    <tr>\n",
       "      <th>rating_weather</th>\n",
       "      <td>163.0</td>\n",
       "      <td>0.515337</td>\n",
       "      <td>0.841485</td>\n",
       "      <td>0.000000</td>\n",
       "      <td>0.000000</td>\n",
       "      <td>0.000000</td>\n",
       "      <td>1.000000</td>\n",
       "      <td>2.000000</td>\n",
       "    </tr>\n",
       "    <tr>\n",
       "      <th>car_or_bus</th>\n",
       "      <td>163.0</td>\n",
       "      <td>1.466258</td>\n",
       "      <td>0.500397</td>\n",
       "      <td>1.000000</td>\n",
       "      <td>1.000000</td>\n",
       "      <td>1.000000</td>\n",
       "      <td>2.000000</td>\n",
       "      <td>2.000000</td>\n",
       "    </tr>\n",
       "  </tbody>\n",
       "</table>\n",
       "</div>"
      ],
      "text/plain": [
       "                count          mean           std       min        25%  \\\n",
       "id              163.0  15607.650307  18644.257138  1.000000  48.500000   \n",
       "id_android      163.0      7.386503      7.348742  0.000000   1.000000   \n",
       "speed           163.0     16.704738     16.016168  0.009779   1.591016   \n",
       "time            163.0      0.264272      0.292731  0.002175   0.035978   \n",
       "distance        163.0      5.302411      7.639011  0.001000   0.034500   \n",
       "rating          163.0      2.515337      0.679105  1.000000   2.000000   \n",
       "rating_bus      163.0      0.386503      0.687859  0.000000   0.000000   \n",
       "rating_weather  163.0      0.515337      0.841485  0.000000   0.000000   \n",
       "car_or_bus      163.0      1.466258      0.500397  1.000000   1.000000   \n",
       "\n",
       "                       50%           75%           max  \n",
       "id              158.000000  37991.000000  38092.000000  \n",
       "id_android        4.000000     10.000000     27.000000  \n",
       "speed            16.685368     23.915760     96.206029  \n",
       "time              0.214466      0.390572      1.942948  \n",
       "distance          3.995000      7.333000     55.770000  \n",
       "rating            3.000000      3.000000      3.000000  \n",
       "rating_bus        0.000000      1.000000      3.000000  \n",
       "rating_weather    0.000000      1.000000      2.000000  \n",
       "car_or_bus        1.000000      2.000000      2.000000  "
      ]
     },
     "execution_count": 4,
     "metadata": {},
     "output_type": "execute_result"
    }
   ],
   "source": [
    "tracks.describe().transpose()"
   ]
  },
  {
   "cell_type": "markdown",
   "metadata": {},
   "source": [
    "### Trackspoints Data Table -  localization points of each trajectory  \n",
    "- id: unique key to identify each point  \n",
    "- latitude: latitude from where the point is  \n",
    "- longitude: longitude from where the point is  \n",
    "- track_id: identify the trajectory which the point belong  \n",
    "- time: datetime when the point was collected (GMT-3) "
   ]
  },
  {
   "cell_type": "markdown",
   "metadata": {},
   "source": [
    "First 10 entries:"
   ]
  },
  {
   "cell_type": "code",
   "execution_count": 5,
   "metadata": {},
   "outputs": [
    {
     "data": {
      "text/html": [
       "<div>\n",
       "<style>\n",
       "    .dataframe thead tr:only-child th {\n",
       "        text-align: right;\n",
       "    }\n",
       "\n",
       "    .dataframe thead th {\n",
       "        text-align: left;\n",
       "    }\n",
       "\n",
       "    .dataframe tbody tr th {\n",
       "        vertical-align: top;\n",
       "    }\n",
       "</style>\n",
       "<table border=\"1\" class=\"dataframe\">\n",
       "  <thead>\n",
       "    <tr style=\"text-align: right;\">\n",
       "      <th></th>\n",
       "      <th>id</th>\n",
       "      <th>latitude</th>\n",
       "      <th>longitude</th>\n",
       "      <th>track_id</th>\n",
       "      <th>time</th>\n",
       "    </tr>\n",
       "  </thead>\n",
       "  <tbody>\n",
       "    <tr>\n",
       "      <th>0</th>\n",
       "      <td>1</td>\n",
       "      <td>-10.939341</td>\n",
       "      <td>-37.062742</td>\n",
       "      <td>1</td>\n",
       "      <td>2014-09-13 07:24:32</td>\n",
       "    </tr>\n",
       "    <tr>\n",
       "      <th>1</th>\n",
       "      <td>2</td>\n",
       "      <td>-10.939341</td>\n",
       "      <td>-37.062742</td>\n",
       "      <td>1</td>\n",
       "      <td>2014-09-13 07:24:37</td>\n",
       "    </tr>\n",
       "    <tr>\n",
       "      <th>2</th>\n",
       "      <td>3</td>\n",
       "      <td>-10.939324</td>\n",
       "      <td>-37.062765</td>\n",
       "      <td>1</td>\n",
       "      <td>2014-09-13 07:24:42</td>\n",
       "    </tr>\n",
       "    <tr>\n",
       "      <th>3</th>\n",
       "      <td>4</td>\n",
       "      <td>-10.939211</td>\n",
       "      <td>-37.062843</td>\n",
       "      <td>1</td>\n",
       "      <td>2014-09-13 07:24:47</td>\n",
       "    </tr>\n",
       "    <tr>\n",
       "      <th>4</th>\n",
       "      <td>5</td>\n",
       "      <td>-10.938939</td>\n",
       "      <td>-37.062879</td>\n",
       "      <td>1</td>\n",
       "      <td>2014-09-13 07:24:53</td>\n",
       "    </tr>\n",
       "    <tr>\n",
       "      <th>5</th>\n",
       "      <td>6</td>\n",
       "      <td>-10.938544</td>\n",
       "      <td>-37.062839</td>\n",
       "      <td>1</td>\n",
       "      <td>2014-09-13 07:24:59</td>\n",
       "    </tr>\n",
       "    <tr>\n",
       "      <th>6</th>\n",
       "      <td>7</td>\n",
       "      <td>-10.938346</td>\n",
       "      <td>-37.062588</td>\n",
       "      <td>1</td>\n",
       "      <td>2014-09-13 07:25:04</td>\n",
       "    </tr>\n",
       "    <tr>\n",
       "      <th>7</th>\n",
       "      <td>8</td>\n",
       "      <td>-10.938448</td>\n",
       "      <td>-37.062000</td>\n",
       "      <td>1</td>\n",
       "      <td>2014-09-13 07:25:10</td>\n",
       "    </tr>\n",
       "    <tr>\n",
       "      <th>8</th>\n",
       "      <td>9</td>\n",
       "      <td>-10.938666</td>\n",
       "      <td>-37.061499</td>\n",
       "      <td>1</td>\n",
       "      <td>2014-09-13 07:25:15</td>\n",
       "    </tr>\n",
       "    <tr>\n",
       "      <th>9</th>\n",
       "      <td>10</td>\n",
       "      <td>-10.938986</td>\n",
       "      <td>-37.060819</td>\n",
       "      <td>1</td>\n",
       "      <td>2014-09-13 07:25:21</td>\n",
       "    </tr>\n",
       "  </tbody>\n",
       "</table>\n",
       "</div>"
      ],
      "text/plain": [
       "   id   latitude  longitude  track_id                time\n",
       "0   1 -10.939341 -37.062742         1 2014-09-13 07:24:32\n",
       "1   2 -10.939341 -37.062742         1 2014-09-13 07:24:37\n",
       "2   3 -10.939324 -37.062765         1 2014-09-13 07:24:42\n",
       "3   4 -10.939211 -37.062843         1 2014-09-13 07:24:47\n",
       "4   5 -10.938939 -37.062879         1 2014-09-13 07:24:53\n",
       "5   6 -10.938544 -37.062839         1 2014-09-13 07:24:59\n",
       "6   7 -10.938346 -37.062588         1 2014-09-13 07:25:04\n",
       "7   8 -10.938448 -37.062000         1 2014-09-13 07:25:10\n",
       "8   9 -10.938666 -37.061499         1 2014-09-13 07:25:15\n",
       "9  10 -10.938986 -37.060819         1 2014-09-13 07:25:21"
      ]
     },
     "execution_count": 5,
     "metadata": {},
     "output_type": "execute_result"
    }
   ],
   "source": [
    "trackspoints.iloc[0:10,:]"
   ]
  },
  {
   "cell_type": "markdown",
   "metadata": {},
   "source": [
    "Min and Max Values:"
   ]
  },
  {
   "cell_type": "code",
   "execution_count": 6,
   "metadata": {
    "scrolled": true
   },
   "outputs": [
    {
     "name": "stdout",
     "output_type": "stream",
     "text": [
      "Min Values: \n",
      "id                             1\n",
      "latitude                -27.6032\n",
      "longitude               -48.6329\n",
      "track_id                       1\n",
      "time         2014-09-13 07:24:32\n",
      "dtype: object\n",
      "\n",
      "\n",
      "Max Values: \n",
      "id                         19569\n",
      "latitude                -10.2928\n",
      "longitude               -36.4934\n",
      "track_id                   38092\n",
      "time         2016-01-19 13:01:47\n",
      "dtype: object\n",
      "\n",
      "Number of rows: 18107\n"
     ]
    }
   ],
   "source": [
    "print(\"Min Values: \\n\" + str(trackspoints.min()))\n",
    "print(\"\\n\")\n",
    "print(\"Max Values: \\n\" + str(trackspoints.max()))\n",
    "print(\"\\nNumber of rows: %s\" % trackspoints.shape[0])"
   ]
  },
  {
   "cell_type": "markdown",
   "metadata": {},
   "source": [
    "**No duplicate ID's:**"
   ]
  },
  {
   "cell_type": "code",
   "execution_count": 7,
   "metadata": {},
   "outputs": [
    {
     "name": "stdout",
     "output_type": "stream",
     "text": [
      "Trackspoints[\"id\"] rows: 18107\n",
      "Trackspoints[\"id\"] without duplicates rows: 18107\n"
     ]
    }
   ],
   "source": [
    "print(\"Trackspoints[\\\"id\\\"] rows: \" + str(trackspoints[\"id\"].shape[0]))\n",
    "print(\"Trackspoints[\\\"id\\\"] without duplicates rows: \" + str(trackspoints[\"id\"].drop_duplicates().shape[0]))"
   ]
  },
  {
   "cell_type": "markdown",
   "metadata": {},
   "source": [
    "***\n",
    "## Visualization & Exploration\n",
    "### Travel time for each trip in minutes"
   ]
  },
  {
   "cell_type": "code",
   "execution_count": 8,
   "metadata": {},
   "outputs": [],
   "source": [
    "from utils.general_utils import calculate_total_trip_time\n",
    "trips_per_track_id = calculate_total_trip_time(trackspoints)"
   ]
  },
  {
   "cell_type": "code",
   "execution_count": 9,
   "metadata": {},
   "outputs": [],
   "source": [
    "sorted_trip_times = trips_per_track_id.sort_values(by=\"trip_time_in_minutes\",ascending=False)"
   ]
  },
  {
   "cell_type": "code",
   "execution_count": 10,
   "metadata": {},
   "outputs": [
    {
     "data": {
      "image/png": "[encoded data removed]",
      "text/plain": [
       "<matplotlib.figure.Figure at 0x2692e879e80>"
      ]
     },
     "metadata": {},
     "output_type": "display_data"
    }
   ],
   "source": [
    "fig , ax = plt.subplots(figsize=(12,5))\n",
    "ax.bar(range(tracks.shape[0]), sorted_trip_times[\"trip_time_in_minutes\"])\n",
    "ax.set_title(\"Sorted trip time in minutes\")\n",
    "plt.show();"
   ]
  },
  {
   "cell_type": "markdown",
   "metadata": {},
   "source": [
    "**10 Longest Trips for travel time in minutes**"
   ]
  },
  {
   "cell_type": "code",
   "execution_count": 11,
   "metadata": {},
   "outputs": [
    {
     "data": {
      "text/html": [
       "<div>\n",
       "<style>\n",
       "    .dataframe thead tr:only-child th {\n",
       "        text-align: right;\n",
       "    }\n",
       "\n",
       "    .dataframe thead th {\n",
       "        text-align: left;\n",
       "    }\n",
       "\n",
       "    .dataframe tbody tr th {\n",
       "        vertical-align: top;\n",
       "    }\n",
       "</style>\n",
       "<table border=\"1\" class=\"dataframe\">\n",
       "  <thead>\n",
       "    <tr style=\"text-align: right;\">\n",
       "      <th>track_id</th>\n",
       "      <th>27</th>\n",
       "      <th>26</th>\n",
       "      <th>30</th>\n",
       "      <th>31</th>\n",
       "      <th>37962</th>\n",
       "      <th>38002</th>\n",
       "      <th>38017</th>\n",
       "      <th>41</th>\n",
       "      <th>40</th>\n",
       "      <th>19</th>\n",
       "    </tr>\n",
       "  </thead>\n",
       "  <tbody>\n",
       "    <tr>\n",
       "      <th>trip_time_in_minutes</th>\n",
       "      <td>116.57</td>\n",
       "      <td>116.57</td>\n",
       "      <td>59.67</td>\n",
       "      <td>59.67</td>\n",
       "      <td>52.42</td>\n",
       "      <td>47.93</td>\n",
       "      <td>45.8</td>\n",
       "      <td>39.42</td>\n",
       "      <td>38.25</td>\n",
       "      <td>38.07</td>\n",
       "    </tr>\n",
       "  </tbody>\n",
       "</table>\n",
       "</div>"
      ],
      "text/plain": [
       "track_id               27      26     30     31     37962  38002  38017  \\\n",
       "trip_time_in_minutes  116.57  116.57  59.67  59.67  52.42  47.93   45.8   \n",
       "\n",
       "track_id              41     40     19     \n",
       "trip_time_in_minutes  39.42  38.25  38.07  "
      ]
     },
     "execution_count": 11,
     "metadata": {},
     "output_type": "execute_result"
    }
   ],
   "source": [
    "sorted_trip_times.iloc[0:10,:].transpose()"
   ]
  },
  {
   "cell_type": "code",
   "execution_count": 12,
   "metadata": {},
   "outputs": [
    {
     "data": {
      "text/html": [
       "<div>\n",
       "<style>\n",
       "    .dataframe thead tr:only-child th {\n",
       "        text-align: right;\n",
       "    }\n",
       "\n",
       "    .dataframe thead th {\n",
       "        text-align: left;\n",
       "    }\n",
       "\n",
       "    .dataframe tbody tr th {\n",
       "        vertical-align: top;\n",
       "    }\n",
       "</style>\n",
       "<table border=\"1\" class=\"dataframe\">\n",
       "  <thead>\n",
       "    <tr style=\"text-align: right;\">\n",
       "      <th></th>\n",
       "      <th>count</th>\n",
       "      <th>mean</th>\n",
       "      <th>std</th>\n",
       "      <th>min</th>\n",
       "      <th>25%</th>\n",
       "      <th>50%</th>\n",
       "      <th>75%</th>\n",
       "      <th>max</th>\n",
       "    </tr>\n",
       "  </thead>\n",
       "  <tbody>\n",
       "    <tr>\n",
       "      <th>trip_time_in_minutes</th>\n",
       "      <td>163.0</td>\n",
       "      <td>15.34638</td>\n",
       "      <td>17.133331</td>\n",
       "      <td>0.0</td>\n",
       "      <td>1.84</td>\n",
       "      <td>12.33</td>\n",
       "      <td>23.2</td>\n",
       "      <td>116.57</td>\n",
       "    </tr>\n",
       "  </tbody>\n",
       "</table>\n",
       "</div>"
      ],
      "text/plain": [
       "                      count      mean        std  min   25%    50%   75%  \\\n",
       "trip_time_in_minutes  163.0  15.34638  17.133331  0.0  1.84  12.33  23.2   \n",
       "\n",
       "                         max  \n",
       "trip_time_in_minutes  116.57  "
      ]
     },
     "execution_count": 12,
     "metadata": {},
     "output_type": "execute_result"
    }
   ],
   "source": [
    "trips_per_track_id.describe().transpose()"
   ]
  },
  {
   "cell_type": "markdown",
   "metadata": {},
   "source": [
    "**Note:** Number of rows in both tables are equal"
   ]
  },
  {
   "cell_type": "code",
   "execution_count": 13,
   "metadata": {
    "collapsed": true
   },
   "outputs": [],
   "source": [
    "x = tracks.set_index(keys=\"id\")\n",
    "x = x[\"time\"] * 60"
   ]
  },
  {
   "cell_type": "markdown",
   "metadata": {},
   "source": [
    "Check deviation of trip time in minutes from both tables: tracks[time] - calculated_trip_time "
   ]
  },
  {
   "cell_type": "code",
   "execution_count": 14,
   "metadata": {},
   "outputs": [
    {
     "name": "stdout",
     "output_type": "stream",
     "text": [
      "Maximum Absolute Deviation: 24.3293166667\n"
     ]
    }
   ],
   "source": [
    "deviation = np.abs(trips_per_track_id[\"trip_time_in_minutes\"]) - np.abs(x.iloc[:])\n",
    "absolute_deviation = np.abs(deviation)\n",
    "print(\"Maximum Absolute Deviation: \" + str(max(absolute_deviation)))"
   ]
  },
  {
   "cell_type": "markdown",
   "metadata": {},
   "source": [
    "**Large difference between the calculated trip time and the one stated in the tracks[time] column**"
   ]
  },
  {
   "cell_type": "code",
   "execution_count": 15,
   "metadata": {
    "scrolled": false
   },
   "outputs": [
    {
     "data": {
      "image/png": "[encoded data removed]",
      "text/plain": [
       "<matplotlib.figure.Figure at 0x2693246ad68>"
      ]
     },
     "metadata": {},
     "output_type": "display_data"
    }
   ],
   "source": [
    "fig , ax = plt.subplots(figsize=(12,5))\n",
    "ax.bar(range(x.shape[0]), absolute_deviation)\n",
    "ax.set_title(\"Absolute deviation of trip time from tracks & trackspoints in minutes\")\n",
    "#ax.set_xlim((min(absolute_deviation), max(absolute_deviation)))\n",
    "threshold = 5\n",
    "plt.plot([threshold for x in range(x.shape[0])], 'k-', lw=1)\n",
    "plt.show();"
   ]
  },
  {
   "cell_type": "code",
   "execution_count": 16,
   "metadata": {},
   "outputs": [
    {
     "name": "stdout",
     "output_type": "stream",
     "text": [
      "There are 12 deviations larger than 5 minutes\n"
     ]
    }
   ],
   "source": [
    "print(\"There are {} deviations larger than {} minutes\".format(len(absolute_deviation[absolute_deviation > 5]),\n",
    "                                                              threshold))"
   ]
  },
  {
   "cell_type": "markdown",
   "metadata": {},
   "source": [
    "There are "
   ]
  },
  {
   "cell_type": "markdown",
   "metadata": {},
   "source": [
    "**From the 10 longest trips the Nr. 1 & 2, Nr. 3 & 4 have the same trip time**\n",
    "\n",
    "Possibility of duplicate trip recordings"
   ]
  },
  {
   "cell_type": "code",
   "execution_count": 17,
   "metadata": {},
   "outputs": [
    {
     "data": {
      "text/html": [
       "<div>\n",
       "<style>\n",
       "    .dataframe thead tr:only-child th {\n",
       "        text-align: right;\n",
       "    }\n",
       "\n",
       "    .dataframe thead th {\n",
       "        text-align: left;\n",
       "    }\n",
       "\n",
       "    .dataframe tbody tr th {\n",
       "        vertical-align: top;\n",
       "    }\n",
       "</style>\n",
       "<table border=\"1\" class=\"dataframe\">\n",
       "  <thead>\n",
       "    <tr style=\"text-align: right;\">\n",
       "      <th>track_id</th>\n",
       "      <th>27</th>\n",
       "      <th>26</th>\n",
       "      <th>30</th>\n",
       "      <th>31</th>\n",
       "    </tr>\n",
       "  </thead>\n",
       "  <tbody>\n",
       "    <tr>\n",
       "      <th>trip_time_in_minutes</th>\n",
       "      <td>116.57</td>\n",
       "      <td>116.57</td>\n",
       "      <td>59.67</td>\n",
       "      <td>59.67</td>\n",
       "    </tr>\n",
       "  </tbody>\n",
       "</table>\n",
       "</div>"
      ],
      "text/plain": [
       "track_id                  27      26     30     31\n",
       "trip_time_in_minutes  116.57  116.57  59.67  59.67"
      ]
     },
     "execution_count": 17,
     "metadata": {},
     "output_type": "execute_result"
    }
   ],
   "source": [
    "sorted_trip_times.iloc[0:4,:].transpose()"
   ]
  },
  {
   "cell_type": "markdown",
   "metadata": {},
   "source": [
    "Let's check if track recording 26 & 27 are duplicates or if it is just a coincidence that their trip time is the same."
   ]
  },
  {
   "cell_type": "code",
   "execution_count": 18,
   "metadata": {},
   "outputs": [],
   "source": [
    "track_26 = trackspoints[trackspoints[\"track_id\"]==26]\n",
    "track_27 = trackspoints[trackspoints[\"track_id\"]==27]\n",
    "track_list = [track_26, track_27]"
   ]
  },
  {
   "cell_type": "markdown",
   "metadata": {},
   "source": [
    "Both trip recordings have the identical plot for time and longitude vs latitude. There is a high chance that these are not the only duplicate values."
   ]
  },
  {
   "cell_type": "code",
   "execution_count": 19,
   "metadata": {},
   "outputs": [
    {
     "data": {
      "image/png": "[encoded data removed]",
      "text/plain": [
       "<matplotlib.figure.Figure at 0x2693246a198>"
      ]
     },
     "metadata": {},
     "output_type": "display_data"
    },
    {
     "data": {
      "image/png": "[encoded data removed]",
      "text/plain": [
       "<matplotlib.figure.Figure at 0x26932214f28>"
      ]
     },
     "metadata": {},
     "output_type": "display_data"
    }
   ],
   "source": [
    "fig1, axes1 = plt.subplots(figsize=(8,4),nrows=1, ncols=2)\n",
    "axes1_flattened = axes1.flatten()\n",
    "\n",
    "for i, ax in enumerate(axes1_flattened):\n",
    "    ax.plot(track_list[i][\"longitude\"], track_list[i][\"latitude\"])\n",
    "    ax.set_xlabel(\"Longitude\")\n",
    "    ax.set_ylabel(\"Latitude\")\n",
    "    track_id = track_list[i][\"track_id\"].iloc[0]\n",
    "    ax.set_title(\"Track Id: {}\".format(track_id))\n",
    "    \n",
    "fig1.tight_layout();\n",
    "\n",
    "fig2, axes2 = plt.subplots(figsize=(8,4),nrows=1, ncols=2)\n",
    "axes2_flattened = axes2.flatten()\n",
    "for i, ax in enumerate(axes2_flattened):\n",
    "    ax.plot(track_list[i][\"time\"])\n",
    "    ax.set_xlabel(\"Recording Steps\")\n",
    "    ax.set_ylabel(\"time\")\n",
    "    track_id = track_list[i][\"track_id\"].iloc[0]\n",
    "    ax.set_title(\"Track Id: {}\".format(track_id))\n",
    "    \n",
    "fig2.tight_layout();"
   ]
  },
  {
   "cell_type": "markdown",
   "metadata": {},
   "source": [
    "In order to check for all duplicate track recordings a more analytical approach is needed. So let's first calculate all possible duplicates and check later whether they are real duplicates or not:\n"
   ]
  },
  {
   "cell_type": "code",
   "execution_count": 20,
   "metadata": {},
   "outputs": [
    {
     "name": "stdout",
     "output_type": "stream",
     "text": [
      "There are 27.0 possible duplicates\n",
      "\n"
     ]
    }
   ],
   "source": [
    "from utils.general_utils import get_duplicate_track_recording_candidates\n",
    "nrofduplicates, duplicate_candidates = get_duplicate_track_recording_candidates(trips_per_track_id)\n",
    "print(\"There are {} possible duplicates\\n\".format(nrofduplicates/2))"
   ]
  },
  {
   "cell_type": "markdown",
   "metadata": {},
   "source": [
    "Now let's check whether these duplicate candidates are really identical in time and gps coordinates.  Lets check how many candidate duplicates track recordings are real duplicates:"
   ]
  },
  {
   "cell_type": "code",
   "execution_count": 21,
   "metadata": {
    "scrolled": false
   },
   "outputs": [
    {
     "name": "stdout",
     "output_type": "stream",
     "text": [
      "There are 17 real duplicates\n"
     ]
    }
   ],
   "source": [
    "from utils.general_utils import get_real_duplicate_track_recordings\n",
    "\n",
    "duplicates = get_real_duplicate_track_recordings(duplicate_candidates, \n",
    "                                                 trackspoints)\n",
    "print(\"There are {} real duplicates\".format(len(duplicates)))"
   ]
  },
  {
   "cell_type": "markdown",
   "metadata": {},
   "source": [
    "We have the following duplicates:"
   ]
  },
  {
   "cell_type": "code",
   "execution_count": 22,
   "metadata": {},
   "outputs": [
    {
     "name": "stdout",
     "output_type": "stream",
     "text": [
      "Duplicate Track_ids:\n",
      " [37972, 45, 139, 37950, 38021, 141, 137, 21, 32447, 27, 143, 37954, 56, 135, 31, 50, 37997]\n"
     ]
    }
   ],
   "source": [
    "print(\"Duplicate Track_ids:\\n\",[i for i in duplicates])"
   ]
  },
  {
   "cell_type": "markdown",
   "metadata": {},
   "source": [
    "***\n",
    "### Histogram Plots\n"
   ]
  },
  {
   "cell_type": "markdown",
   "metadata": {},
   "source": [
    "Histogram Plots for **Tracks Data Table**"
   ]
  },
  {
   "cell_type": "code",
   "execution_count": 23,
   "metadata": {},
   "outputs": [
    {
     "data": {
      "image/png": "[encoded data removed]",
      "text/plain": [
       "<matplotlib.figure.Figure at 0x26931f7c780>"
      ]
     },
     "metadata": {},
     "output_type": "display_data"
    }
   ],
   "source": [
    "fig1, axes1 = plt.subplots(figsize=(12,8),nrows=5, ncols=2)\n",
    "axes1_flattened = axes1.flatten()\n",
    "track_colum_names = np.hstack(tracks.columns)\n",
    "\n",
    "i = 0\n",
    "for ax in axes1_flattened:\n",
    "    if i != tracks.shape[1]-1:\n",
    "        ax.hist(tracks[track_colum_names[i]])\n",
    "        ax.set_title(track_colum_names[i])\n",
    "        ax.set_ylim(0,120)\n",
    "        i = i + 1\n",
    "    else:\n",
    "        ax.hist(tracks[\"linha\"].value_counts())\n",
    "        ax.set_title(track_colum_names[i])\n",
    "        ax.set_ylim(0,120)\n",
    "        i = i + 1\n",
    "fig1.tight_layout();"
   ]
  },
  {
   "cell_type": "markdown",
   "metadata": {},
   "source": [
    "Detailed plot for string data in **linha** column:"
   ]
  },
  {
   "cell_type": "code",
   "execution_count": 24,
   "metadata": {
    "scrolled": true
   },
   "outputs": [
    {
     "data": {
      "image/png": "[encoded data removed]",
      "text/plain": [
       "<matplotlib.figure.Figure at 0x269321c2390>"
      ]
     },
     "metadata": {},
     "output_type": "display_data"
    }
   ],
   "source": [
    "tracks[\"linha\"].value_counts().plot(kind='bar',figsize=(12,4));"
   ]
  },
  {
   "cell_type": "markdown",
   "metadata": {},
   "source": [
    "***\n",
    "# Existing Issues - Potential Preprocessing Tasks\n",
    "- Large discrepancy between travel time per ``track_id`` stated in the **tracks data table** and the one calculated from the **trackspoints data table**\n",
    "- Remove duplicate recordings in track_ids\n",
    "- Drop ``linha`` column due to high number of nan values\n",
    "\n"
   ]
  },
  {
   "cell_type": "markdown",
   "metadata": {},
   "source": [
    "***\n",
    "# To-Do - Suggestions\n",
    "- id columns from **Tracks Data Table** is equal to track id column in **Trackspoints Data Table** --> perform a join between those two and visualize indivual tracks on a map \n",
    "- time series plots\n",
    "- other fancy visualisation\n",
    "- find clusters of similar trajectories\n"
   ]
  },
  {
   "cell_type": "code",
   "execution_count": 25,
   "metadata": {},
   "outputs": [],
   "source": [
    "import gmplot\n",
    "\n",
    "colors = 'red','blue','green','yellow','brown','orange','pink','purple','springgreen','firebrick'\n",
    "\n",
    "def plottracks(track_id, color):\n",
    "    latitudes = trackspoints[trackspoints['track_id'].isin([track_id])]['latitude']\n",
    "    longitudes = trackspoints[trackspoints['track_id'].isin([track_id])]['longitude']\n",
    "    gmap.plot(latitudes, longitudes, color, edge_width=5)\n",
    "\n",
    "init_lat = trackspoints[trackspoints['track_id'].isin([1])]['latitude'][0]    \n",
    "init_long = longitudes = trackspoints[trackspoints['track_id'].isin([1])]['longitude'][0]\n",
    "\n",
    "gmap = gmplot.GoogleMapPlotter(init_lat, init_long, 18)\n",
    "for track_id in range(1,10):\n",
    "    plottracks(track_id, colors[track_id-1])\n",
    "gmap.draw(\"map10.html\")    \n",
    "\n"
   ]
  },
  {
   "cell_type": "code",
   "execution_count": 26,
   "metadata": {},
   "outputs": [
    {
     "data": {
      "text/plain": [
       "38092"
      ]
     },
     "execution_count": 26,
     "metadata": {},
     "output_type": "execute_result"
    }
   ],
   "source": [
    "max(trackspoints['track_id'])\n",
    "#trackspoints\n",
    "\n",
    "#trackspoints[trackspoints['track_id'].isin([8])]"
   ]
  },
  {
   "cell_type": "code",
   "execution_count": 27,
   "metadata": {
    "collapsed": true
   },
   "outputs": [],
   "source": [
    "init_lat = trackspoints[trackspoints['track_id'].isin([1])]['latitude'][0]    \n",
    "init_long = longitudes = trackspoints[trackspoints['track_id'].isin([1])]['longitude'][0]\n",
    "\n",
    "heat_lats = trackspoints['latitude']\n",
    "heat_lngs = trackspoints['longitude']\n",
    "gmap = gmplot.GoogleMapPlotter(init_lat, init_long, 18)\n",
    "gmap.heatmap(heat_lats, heat_lngs)\n",
    "gmap.draw(\"mapHeat.html\") "
   ]
  },
  {
   "cell_type": "code",
   "execution_count": null,
   "metadata": {
    "collapsed": true
   },
   "outputs": [],
   "source": []
  },
  {
   "cell_type": "code",
   "execution_count": null,
   "metadata": {
    "collapsed": true
   },
   "outputs": [],
   "source": []
  },
  {
   "cell_type": "code",
   "execution_count": null,
   "metadata": {
    "collapsed": true
   },
   "outputs": [],
   "source": []
  },
  {
   "cell_type": "code",
   "execution_count": 28,
   "metadata": {},
   "outputs": [
    {
     "data": {
      "text/plain": [
       "0       -10.939341\n",
       "1       -10.939341\n",
       "2       -10.939324\n",
       "3       -10.939211\n",
       "4       -10.938939\n",
       "5       -10.938544\n",
       "6       -10.938346\n",
       "7       -10.938448\n",
       "8       -10.938666\n",
       "9       -10.938986\n",
       "10      -10.939343\n",
       "11      -10.939641\n",
       "12      -10.939858\n",
       "13      -10.940077\n",
       "14      -10.940389\n",
       "15      -10.940746\n",
       "16      -10.941179\n",
       "17      -10.941480\n",
       "18      -10.941533\n",
       "19      -10.941533\n",
       "20      -10.941533\n",
       "21      -10.941533\n",
       "22      -10.941533\n",
       "23      -10.941533\n",
       "24      -10.941533\n",
       "25      -10.941533\n",
       "26      -10.941542\n",
       "27      -10.941742\n",
       "28      -10.942100\n",
       "29      -10.942444\n",
       "           ...    \n",
       "18077   -10.941897\n",
       "18078   -10.942058\n",
       "18079   -10.942259\n",
       "18080   -10.942421\n",
       "18081   -10.942502\n",
       "18082   -10.942616\n",
       "18083   -10.942873\n",
       "18084   -10.943079\n",
       "18085   -10.943389\n",
       "18086   -10.943441\n",
       "18087   -10.943516\n",
       "18088   -10.943678\n",
       "18089   -10.943970\n",
       "18090   -10.944238\n",
       "18091   -10.944160\n",
       "18092   -10.943978\n",
       "18093   -10.943601\n",
       "18094   -10.943469\n",
       "18095   -10.943469\n",
       "18096   -10.933523\n",
       "18097   -10.933398\n",
       "18098   -10.933398\n",
       "18099   -10.933398\n",
       "18100   -10.869450\n",
       "18101   -10.869450\n",
       "18102   -10.923722\n",
       "18103   -10.923704\n",
       "18104   -10.923715\n",
       "18105   -10.923715\n",
       "18106   -10.923716\n",
       "Name: latitude, Length: 18107, dtype: float64"
      ]
     },
     "execution_count": 28,
     "metadata": {},
     "output_type": "execute_result"
    }
   ],
   "source": [
    "trackspoints['latitude']"
   ]
  },
  {
   "cell_type": "raw",
   "metadata": {},
   "source": []
  }
 ],
 "metadata": {
  "kernelspec": {
   "display_name": "Python [conda env:Tensorflow]",
   "language": "python",
   "name": "conda-env-Tensorflow-py"
  },
  "language_info": {
   "codemirror_mode": {
    "name": "ipython",
    "version": 3
   },
   "file_extension": ".py",
   "mimetype": "text/x-python",
   "name": "python",
   "nbconvert_exporter": "python",
   "pygments_lexer": "ipython3",
   "version": "3.5.4"
  }
 },
 "nbformat": 4,
 "nbformat_minor": 2
}
